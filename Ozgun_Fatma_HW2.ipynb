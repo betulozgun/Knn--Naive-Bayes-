{
 "cells": [
  {
   "cell_type": "markdown",
   "metadata": {},
   "source": [
    "# <font color=\"blue\">DA514 - Homework Assignment 2</font>\n",
    "\n",
    "Assigned: February 24th, 2021<br>\n",
    "Due: **March 7th, 2021 23:55pm**\n",
    "\n",
    "Please use this notebook for your answers. Add your charts/graphs/code where necessary. You can select the \"Markdown\" mode from the drop-down menu above and type your answer/reasoning there. It would be extra nice if you can use equations. The notebooks we provided have numerous examples. you can also check the following link for the Markdown formula: http://csrgxtu.github.io/2015/03/20/Writing-Mathematic-Fomulars-in-Markdown/\n",
    "\n",
    "### Requirements (very important):\n",
    "1. Please use **this notebook** to answer the questions. If you work on Colab, you can download your notebook and use it for submission.\n",
    "\n",
    "\n",
    "2. Please name your notebook as **`lastName_firstName_HW2.ipynb`** and upload it to SuCourse+ on time.\n",
    "\n",
    "\n",
    "3. Don't send your work in HTML format. Because we must be able to run your code if need be. Don't send it in the **`.py`** format either. They won't be processed.  \n",
    "\n",
    "\n",
    "4. Please work alone."
   ]
  },
  {
   "cell_type": "markdown",
   "metadata": {},
   "source": [
    "### Fatma Betül Özgün Homework 2"
   ]
  },
  {
   "cell_type": "markdown",
   "metadata": {},
   "source": [
    "# Q1. Cross Validation and the mean model performance (30 pts)\n",
    "Cross-validation gives a measure of out-of-sample accuracy by averaging over several random partitions of test samples. It is often used for parameter tuning by doing cross-validation for several possible values of a parameter and choosing the parameter value that gives the lowest cross-validation average error. So you can use CV to help choose between alternatives.\n",
    "\n",
    "The point is, you can use one validation step only for one goal: either for parameter optimization, or for estimating generalization performance. When you use cross validation for parameter tuning, the validation samples in fact become part of your model. So you need another independent (test) sample to correctly assess the performance of the final model. When we have limited data, we may not have that independent data set to measure the generalization performance of the model.\n",
    "\n",
    "When only a limited data is available, we use a k-fold CV and report the mean performance across all folds. With a single random partitioning of data, the result could be noisy meaning that each time the CV procedure is run, a different split of the dataset into k-folds can be implemented, and in turn, the distribution of performance scores can be different, resulting in a different mean estimate of model performance.\n",
    "\n",
    "One alternative might be to use repeated cross validations. This way, we can have a more reliable estimate for the mean performance of the model as the repeated CV estimator outperforms the non-repeated one by reducing the variability of the estimator.\n",
    "\n",
    "We would like to measure the mean performance of the default Logistic Regression and kNN models on the Iris data set. \n",
    "\n",
    "**1.** Fit the default **Logistic Regression** and **kNN** models by training on the whole data using a single 5-fold CV procedure and report the mean performance and the standard error. \n",
    "\n",
    "**2.** Now employ a **repeated** 5-fold CV procedure (say 50-100 repetitions) for both models to measure the overall mean performance and the standard error.\n",
    "\n",
    "What differences do you see? You may want to plot the variation in the mean performance and the standard error as a function of the number of repetitions and comment. "
   ]
  },
  {
   "cell_type": "code",
   "execution_count": 981,
   "metadata": {},
   "outputs": [],
   "source": [
    "import numpy as np\n",
    "import pandas as pd\n",
    "import seaborn as sns\n",
    "import matplotlib.pyplot as plt\n",
    "from sklearn.pipeline import Pipeline\n",
    "from sklearn.model_selection import train_test_split\n",
    "from sklearn.linear_model import LogisticRegression\n",
    "from sklearn.model_selection import StratifiedKFold\n",
    "from sklearn.pipeline import Pipeline\n",
    "from sklearn.pipeline import make_pipeline, Pipeline\n",
    "from sklearn.preprocessing import StandardScaler\n",
    "from sklearn.model_selection import GridSearchCV\n",
    "from sklearn.model_selection import cross_val_score\n",
    "from sklearn.metrics import accuracy_score\n",
    "from sklearn.neighbors import KNeighborsClassifier\n",
    "from sklearn.model_selection import StratifiedKFold, RepeatedKFold\n",
    "from sklearn.metrics import roc_curve, auc\n",
    "from sklearn.metrics import confusion_matrix\n",
    "from sklearn.metrics import precision_score, recall_score, roc_auc_score, precision_recall_curve\n",
    "from sklearn.metrics import f1_score, fbeta_score, accuracy_score, classification_report, average_precision_score\n",
    "from sklearn.naive_bayes import GaussianNB\n",
    "from sklearn.preprocessing import PowerTransformer\n",
    "from sklearn.naive_bayes import GaussianNB \n",
    "from sklearn.naive_bayes import CategoricalNB\n",
    "from sklearn.preprocessing import OrdinalEncoder\n",
    "import scipy.stats as stats \n",
    "from matplotlib import pyplot as plt\n",
    "\n",
    "import warnings\n",
    "warnings.filterwarnings(\"ignore\")"
   ]
  },
  {
   "cell_type": "code",
   "execution_count": 980,
   "metadata": {},
   "outputs": [
    {
     "name": "stdout",
     "output_type": "stream",
     "text": [
      "betül\n"
     ]
    }
   ],
   "source": [
    "print('betül') "
   ]
  },
  {
   "cell_type": "code",
   "execution_count": 982,
   "metadata": {},
   "outputs": [
    {
     "data": {
      "text/html": [
       "<div>\n",
       "<style scoped>\n",
       "    .dataframe tbody tr th:only-of-type {\n",
       "        vertical-align: middle;\n",
       "    }\n",
       "\n",
       "    .dataframe tbody tr th {\n",
       "        vertical-align: top;\n",
       "    }\n",
       "\n",
       "    .dataframe thead th {\n",
       "        text-align: right;\n",
       "    }\n",
       "</style>\n",
       "<table border=\"1\" class=\"dataframe\">\n",
       "  <thead>\n",
       "    <tr style=\"text-align: right;\">\n",
       "      <th></th>\n",
       "      <th>5.1</th>\n",
       "      <th>3.5</th>\n",
       "      <th>1.4</th>\n",
       "      <th>0.2</th>\n",
       "      <th>Iris-setosa</th>\n",
       "    </tr>\n",
       "  </thead>\n",
       "  <tbody>\n",
       "    <tr>\n",
       "      <th>0</th>\n",
       "      <td>4.9</td>\n",
       "      <td>3.0</td>\n",
       "      <td>1.4</td>\n",
       "      <td>0.2</td>\n",
       "      <td>Iris-setosa</td>\n",
       "    </tr>\n",
       "    <tr>\n",
       "      <th>1</th>\n",
       "      <td>4.7</td>\n",
       "      <td>3.2</td>\n",
       "      <td>1.3</td>\n",
       "      <td>0.2</td>\n",
       "      <td>Iris-setosa</td>\n",
       "    </tr>\n",
       "    <tr>\n",
       "      <th>2</th>\n",
       "      <td>4.6</td>\n",
       "      <td>3.1</td>\n",
       "      <td>1.5</td>\n",
       "      <td>0.2</td>\n",
       "      <td>Iris-setosa</td>\n",
       "    </tr>\n",
       "    <tr>\n",
       "      <th>3</th>\n",
       "      <td>5.0</td>\n",
       "      <td>3.6</td>\n",
       "      <td>1.4</td>\n",
       "      <td>0.2</td>\n",
       "      <td>Iris-setosa</td>\n",
       "    </tr>\n",
       "    <tr>\n",
       "      <th>4</th>\n",
       "      <td>5.4</td>\n",
       "      <td>3.9</td>\n",
       "      <td>1.7</td>\n",
       "      <td>0.4</td>\n",
       "      <td>Iris-setosa</td>\n",
       "    </tr>\n",
       "  </tbody>\n",
       "</table>\n",
       "</div>"
      ],
      "text/plain": [
       "   5.1  3.5  1.4  0.2  Iris-setosa\n",
       "0  4.9  3.0  1.4  0.2  Iris-setosa\n",
       "1  4.7  3.2  1.3  0.2  Iris-setosa\n",
       "2  4.6  3.1  1.5  0.2  Iris-setosa\n",
       "3  5.0  3.6  1.4  0.2  Iris-setosa\n",
       "4  5.4  3.9  1.7  0.4  Iris-setosa"
      ]
     },
     "execution_count": 982,
     "metadata": {},
     "output_type": "execute_result"
    }
   ],
   "source": [
    "# load the iris data into a DataFrame from its URL\n",
    "url = 'http://archive.ics.uci.edu/ml/machine-learning-databases/iris/iris.data' \n",
    "df = pd.read_csv(url)\n",
    "df.head()"
   ]
  },
  {
   "cell_type": "code",
   "execution_count": 983,
   "metadata": {},
   "outputs": [
    {
     "data": {
      "text/html": [
       "<div>\n",
       "<style scoped>\n",
       "    .dataframe tbody tr th:only-of-type {\n",
       "        vertical-align: middle;\n",
       "    }\n",
       "\n",
       "    .dataframe tbody tr th {\n",
       "        vertical-align: top;\n",
       "    }\n",
       "\n",
       "    .dataframe thead th {\n",
       "        text-align: right;\n",
       "    }\n",
       "</style>\n",
       "<table border=\"1\" class=\"dataframe\">\n",
       "  <thead>\n",
       "    <tr style=\"text-align: right;\">\n",
       "      <th></th>\n",
       "      <th>sepal_length</th>\n",
       "      <th>sepal_width</th>\n",
       "      <th>petal_length</th>\n",
       "      <th>petal_width</th>\n",
       "      <th>species</th>\n",
       "    </tr>\n",
       "  </thead>\n",
       "  <tbody>\n",
       "    <tr>\n",
       "      <th>0</th>\n",
       "      <td>5.1</td>\n",
       "      <td>3.5</td>\n",
       "      <td>1.4</td>\n",
       "      <td>0.2</td>\n",
       "      <td>Iris-setosa</td>\n",
       "    </tr>\n",
       "    <tr>\n",
       "      <th>1</th>\n",
       "      <td>4.9</td>\n",
       "      <td>3.0</td>\n",
       "      <td>1.4</td>\n",
       "      <td>0.2</td>\n",
       "      <td>Iris-setosa</td>\n",
       "    </tr>\n",
       "    <tr>\n",
       "      <th>2</th>\n",
       "      <td>4.7</td>\n",
       "      <td>3.2</td>\n",
       "      <td>1.3</td>\n",
       "      <td>0.2</td>\n",
       "      <td>Iris-setosa</td>\n",
       "    </tr>\n",
       "    <tr>\n",
       "      <th>3</th>\n",
       "      <td>4.6</td>\n",
       "      <td>3.1</td>\n",
       "      <td>1.5</td>\n",
       "      <td>0.2</td>\n",
       "      <td>Iris-setosa</td>\n",
       "    </tr>\n",
       "    <tr>\n",
       "      <th>4</th>\n",
       "      <td>5.0</td>\n",
       "      <td>3.6</td>\n",
       "      <td>1.4</td>\n",
       "      <td>0.2</td>\n",
       "      <td>Iris-setosa</td>\n",
       "    </tr>\n",
       "  </tbody>\n",
       "</table>\n",
       "</div>"
      ],
      "text/plain": [
       "   sepal_length  sepal_width  petal_length  petal_width      species\n",
       "0           5.1          3.5           1.4          0.2  Iris-setosa\n",
       "1           4.9          3.0           1.4          0.2  Iris-setosa\n",
       "2           4.7          3.2           1.3          0.2  Iris-setosa\n",
       "3           4.6          3.1           1.5          0.2  Iris-setosa\n",
       "4           5.0          3.6           1.4          0.2  Iris-setosa"
      ]
     },
     "execution_count": 983,
     "metadata": {},
     "output_type": "execute_result"
    }
   ],
   "source": [
    "#Specify the column names\n",
    "col_names = ['sepal_length', 'sepal_width', 'petal_length', 'petal_width', 'species']\n",
    "df = pd.read_csv(url, header=None, names=col_names)\n",
    "df.head()"
   ]
  },
  {
   "cell_type": "code",
   "execution_count": 946,
   "metadata": {},
   "outputs": [
    {
     "data": {
      "text/plain": [
       "(150, 5)"
      ]
     },
     "execution_count": 946,
     "metadata": {},
     "output_type": "execute_result"
    }
   ],
   "source": [
    "df.shape"
   ]
  },
  {
   "cell_type": "code",
   "execution_count": 947,
   "metadata": {},
   "outputs": [
    {
     "name": "stdout",
     "output_type": "stream",
     "text": [
      "<class 'pandas.core.frame.DataFrame'>\n",
      "RangeIndex: 150 entries, 0 to 149\n",
      "Data columns (total 5 columns):\n",
      " #   Column        Non-Null Count  Dtype  \n",
      "---  ------        --------------  -----  \n",
      " 0   sepal_length  150 non-null    float64\n",
      " 1   sepal_width   150 non-null    float64\n",
      " 2   petal_length  150 non-null    float64\n",
      " 3   petal_width   150 non-null    float64\n",
      " 4   species       150 non-null    object \n",
      "dtypes: float64(4), object(1)\n",
      "memory usage: 6.0+ KB\n"
     ]
    }
   ],
   "source": [
    "df.info() "
   ]
  },
  {
   "cell_type": "code",
   "execution_count": 948,
   "metadata": {},
   "outputs": [
    {
     "data": {
      "text/plain": [
       "False"
      ]
     },
     "execution_count": 948,
     "metadata": {},
     "output_type": "execute_result"
    }
   ],
   "source": [
    "df.isnull().values.any()"
   ]
  },
  {
   "cell_type": "markdown",
   "metadata": {},
   "source": [
    "#### Answer 1.1 "
   ]
  },
  {
   "cell_type": "markdown",
   "metadata": {},
   "source": [
    "## Single k-fold Cross Validation"
   ]
  },
  {
   "cell_type": "markdown",
   "metadata": {},
   "source": [
    "## a- Building Logistic Regression Model"
   ]
  },
  {
   "cell_type": "markdown",
   "metadata": {},
   "source": [
    "### With Default Parameters "
   ]
  },
  {
   "cell_type": "code",
   "execution_count": 949,
   "metadata": {},
   "outputs": [],
   "source": [
    "df2= df.copy()\n",
    "y = df2.species\n",
    "columns = ['sepal_length', 'sepal_width', 'petal_length', 'petal_width'] \n",
    "X = df2[columns]"
   ]
  },
  {
   "cell_type": "code",
   "execution_count": 950,
   "metadata": {},
   "outputs": [],
   "source": [
    "seed = 150\n",
    "X_train, X_test, y_train, y_test = train_test_split(X, y, test_size=0.25, random_state=seed)"
   ]
  },
  {
   "cell_type": "code",
   "execution_count": 951,
   "metadata": {},
   "outputs": [
    {
     "name": "stdout",
     "output_type": "stream",
     "text": [
      "Test accuracy : 0.9473684210526315\n"
     ]
    }
   ],
   "source": [
    "#Building the model \n",
    "log_reg = LogisticRegression() \n",
    "log_reg.fit(X_train, y_train)\n",
    "predictions = log_reg.predict(X_test)\n",
    "print( 'Test accuracy :', (accuracy_score(y_test, log_reg.predict(X_test))))\n",
    "scores = cross_val_score(log_reg, X_test, y_test, cv=5)"
   ]
  },
  {
   "cell_type": "code",
   "execution_count": 952,
   "metadata": {},
   "outputs": [
    {
     "name": "stdout",
     "output_type": "stream",
     "text": [
      "Mean with default parameters is equal to: 0.9464285714285714\n",
      "Standard error with default parameters is equal to: 0.03292694449033175\n"
     ]
    }
   ],
   "source": [
    "#Finding the mean performance and the standard error for logistic regression with default parameters \n",
    "print(\"Mean with default parameters is equal to:\",scores.mean())\n",
    "print(\"Standard error with default parameters is equal to:\", stats.sem(scores))"
   ]
  },
  {
   "cell_type": "markdown",
   "metadata": {},
   "source": [
    "### With Hyperparameters "
   ]
  },
  {
   "cell_type": "code",
   "execution_count": 513,
   "metadata": {},
   "outputs": [
    {
     "name": "stdout",
     "output_type": "stream",
     "text": [
      "Fitting 5 folds for each of 266 candidates, totalling 1330 fits\n"
     ]
    },
    {
     "name": "stderr",
     "output_type": "stream",
     "text": [
      "[Parallel(n_jobs=-1)]: Using backend LokyBackend with 8 concurrent workers.\n",
      "[Parallel(n_jobs=-1)]: Done  34 tasks      | elapsed:   26.6s\n"
     ]
    },
    {
     "name": "stdout",
     "output_type": "stream",
     "text": [
      "Best grid parameters: {'clf__C': 0.40000000000000013, 'clf__penalty': 'l1', 'clf__solver': 'saga'} \n",
      "\n",
      "Classifier used     : Pipeline(steps=[('scaler', StandardScaler()),\n",
      "                ('clf',\n",
      "                 LogisticRegression(C=0.40000000000000013, penalty='l1',\n",
      "                                    random_state=150, solver='saga'))]) \n",
      "\n"
     ]
    },
    {
     "name": "stderr",
     "output_type": "stream",
     "text": [
      "[Parallel(n_jobs=-1)]: Done 1330 out of 1330 | elapsed:   30.9s finished\n"
     ]
    }
   ],
   "source": [
    "#Searching best grid parameters \n",
    "pipe = Pipeline([('scaler',  StandardScaler()),\n",
    "                ('clf',     LogisticRegression(random_state=seed))])\n",
    "\n",
    "params = [{'clf__C'           : np.arange(0.1, 2.0, 0.05), \n",
    "           'clf__penalty'     : ['l1'], \n",
    "           'clf__solver'      : ['liblinear', 'saga']},\n",
    "          \n",
    "          {'clf__C'           : np.arange(0.1, 2.0, 0.05), \n",
    "           'clf__penalty'     : ['l2'], \n",
    "           'clf__solver'      : ['liblinear', 'newton-cg', 'lbfgs', 'sag', 'saga']}]\n",
    "\n",
    "grid = GridSearchCV(pipe, param_grid=params, cv=5, n_jobs=-1 , verbose=1)\n",
    "grid.fit(X_train, y_train)\n",
    "\n",
    "print('Best grid parameters:', grid.best_params_, '\\n')\n",
    "print('Classifier used     :',grid.best_estimator_,'\\n')"
   ]
  },
  {
   "cell_type": "code",
   "execution_count": 786,
   "metadata": {},
   "outputs": [],
   "source": [
    "log_reg_hyp = LogisticRegression(C = 0.4, solver='saga', penalty='l1') \n",
    "scores_hyp = cross_val_score(log_reg_hyp, X_test, y_test, cv=5) "
   ]
  },
  {
   "cell_type": "code",
   "execution_count": 787,
   "metadata": {},
   "outputs": [
    {
     "name": "stdout",
     "output_type": "stream",
     "text": [
      "Mean with hyperparameters is equal to: 0.8964285714285714\n",
      "Standard error with hyperparameters is equal to: 0.04738035414793428\n"
     ]
    }
   ],
   "source": [
    "#Finding the mean performance and the standard error for logistic regression with hyperparameters\n",
    "print(\"Mean with hyperparameters is equal to:\",scores_hyp.mean())\n",
    "print(\"Standard error with hyperparameters is equal to:\",stats.sem(scores_hyp))"
   ]
  },
  {
   "cell_type": "markdown",
   "metadata": {},
   "source": [
    "Note 1: Mean and standard error values change when we build the model with hyperparameters. "
   ]
  },
  {
   "cell_type": "markdown",
   "metadata": {},
   "source": [
    "## b- Building kNN Model"
   ]
  },
  {
   "cell_type": "markdown",
   "metadata": {},
   "source": [
    "### With Default Parameters"
   ]
  },
  {
   "cell_type": "code",
   "execution_count": 792,
   "metadata": {},
   "outputs": [],
   "source": [
    "df3= df.copy()\n",
    "y = df3.species\n",
    "columns = ['sepal_length', 'sepal_width', 'petal_length', 'petal_width'] \n",
    "X = df3[columns]"
   ]
  },
  {
   "cell_type": "code",
   "execution_count": 793,
   "metadata": {},
   "outputs": [],
   "source": [
    "seed = 150\n",
    "X_train, X_test, y_train, y_test = train_test_split(X, y, test_size=0.25, random_state=seed)"
   ]
  },
  {
   "cell_type": "code",
   "execution_count": 794,
   "metadata": {},
   "outputs": [],
   "source": [
    "# We should scale the data in kNN \n",
    "scalerX = StandardScaler().fit(X_train)\n",
    "X_train = scalerX.transform(X_train)\n",
    "X_test = scalerX.transform(X_test)"
   ]
  },
  {
   "cell_type": "code",
   "execution_count": 795,
   "metadata": {},
   "outputs": [
    {
     "name": "stdout",
     "output_type": "stream",
     "text": [
      "Test accuracy : 0.9473684210526315\n"
     ]
    }
   ],
   "source": [
    "#Building the model \n",
    "knn_clf = KNeighborsClassifier(n_neighbors = 5)\n",
    "knn_clf.fit(X_train, y_train)\n",
    "predictions = knn_clf.predict(X_test)\n",
    "print( 'Test accuracy :', (accuracy_score(y_test, knn_clf.predict(X_test))))\n",
    "knn_scores = cross_val_score(knn_clf, X_test, y_test, cv=5)"
   ]
  },
  {
   "cell_type": "code",
   "execution_count": 796,
   "metadata": {},
   "outputs": [
    {
     "name": "stdout",
     "output_type": "stream",
     "text": [
      "Mean with default parameters is equal to: 0.9214285714285714\n",
      "Standard error with default parameters is equal to: 0.05101020306102036\n"
     ]
    }
   ],
   "source": [
    "#Finding the mean performance and the standard error for kNN with default parameters \n",
    "print(\"Mean with default parameters is equal to:\",knn_scores.mean())\n",
    "print(\"Standard error with default parameters is equal to:\",stats.sem(knn_scores))"
   ]
  },
  {
   "cell_type": "markdown",
   "metadata": {},
   "source": [
    "### With Hyperparameters"
   ]
  },
  {
   "cell_type": "code",
   "execution_count": 530,
   "metadata": {},
   "outputs": [
    {
     "name": "stdout",
     "output_type": "stream",
     "text": [
      "Fitting 5 folds for each of 60 candidates, totalling 300 fits\n"
     ]
    },
    {
     "name": "stderr",
     "output_type": "stream",
     "text": [
      "[Parallel(n_jobs=-1)]: Using backend LokyBackend with 8 concurrent workers.\n",
      "[Parallel(n_jobs=-1)]: Done  34 tasks      | elapsed:    4.9s\n"
     ]
    },
    {
     "name": "stdout",
     "output_type": "stream",
     "text": [
      "Best grid parameters: {'clf__n_neighbors': 7, 'clf__p': 2, 'clf__weights': 'uniform'} \n",
      "\n",
      "Classifier used: Pipeline(steps=[('scaler', StandardScaler()),\n",
      "                ('clf', KNeighborsClassifier(n_neighbors=7))]) \n",
      "\n"
     ]
    },
    {
     "name": "stderr",
     "output_type": "stream",
     "text": [
      "[Parallel(n_jobs=-1)]: Done 300 out of 300 | elapsed:    5.2s finished\n"
     ]
    }
   ],
   "source": [
    "#Searching best grid parameters \n",
    "pipeline = Pipeline([('scaler', StandardScaler()),\n",
    "                     ('clf', KNeighborsClassifier()) ])\n",
    "\n",
    "params = [{'clf__n_neighbors': np.arange(1, 30, 2), \n",
    "           'clf__weights'    : ['uniform', 'distance'], \n",
    "           'clf__p'          : [1, 2]} ] \n",
    "\n",
    "grid = GridSearchCV(estimator = pipeline, param_grid = params, cv = 5,  n_jobs=-1 , verbose=1)\n",
    "\n",
    "grid.fit(X_train, y_train)\n",
    "print('Best grid parameters:', grid.best_params_, '\\n')\n",
    "print('Classifier used:', grid.best_estimator_,'\\n')"
   ]
  },
  {
   "cell_type": "code",
   "execution_count": 798,
   "metadata": {},
   "outputs": [],
   "source": [
    "knn_clf_hyp = KNeighborsClassifier(n_neighbors = 7, weights='uniform', p= 2)\n",
    "knn_scores_hyp = cross_val_score(knn_clf_hyp, X_test, y_test, cv=5)"
   ]
  },
  {
   "cell_type": "code",
   "execution_count": 799,
   "metadata": {},
   "outputs": [
    {
     "name": "stdout",
     "output_type": "stream",
     "text": [
      "Mean with hyperparameters is equal to: 0.9214285714285714\n",
      "Standard error with hyperparameters is equal to: 0.05101020306102036\n"
     ]
    }
   ],
   "source": [
    "#Finding the mean performance and the standard error for kNN with hyperparameters\n",
    "print(\"Mean with hyperparameters is equal to:\",knn_scores_hyp.mean())\n",
    "print(\"Standard error with hyperparameters is equal to:\",stats.sem(knn_scores_hyp))"
   ]
  },
  {
   "cell_type": "markdown",
   "metadata": {},
   "source": [
    "Note 2: Mean and standard error values does not change when we build the model with hyperparameters."
   ]
  },
  {
   "cell_type": "markdown",
   "metadata": {},
   "source": [
    "#### Answer 3.2"
   ]
  },
  {
   "cell_type": "markdown",
   "metadata": {},
   "source": [
    "## 2- Repeated k-fold Cross Validation"
   ]
  },
  {
   "cell_type": "markdown",
   "metadata": {},
   "source": [
    "## a- Building Logistic Regression Model"
   ]
  },
  {
   "cell_type": "markdown",
   "metadata": {},
   "source": [
    "### With Default Parameters"
   ]
  },
  {
   "cell_type": "code",
   "execution_count": 953,
   "metadata": {},
   "outputs": [],
   "source": [
    "df4= df.copy()\n",
    "y = df4.species\n",
    "columns = ['sepal_length', 'sepal_width', 'petal_length', 'petal_width'] \n",
    "X = df4[columns]"
   ]
  },
  {
   "cell_type": "code",
   "execution_count": 954,
   "metadata": {},
   "outputs": [],
   "source": [
    "seed = 150\n",
    "X_train, X_test, y_train, y_test = train_test_split(X, y, test_size=0.25, random_state=seed)"
   ]
  },
  {
   "cell_type": "code",
   "execution_count": 955,
   "metadata": {},
   "outputs": [
    {
     "name": "stdout",
     "output_type": "stream",
     "text": [
      "Test accuracy : 0.9473684210526315\n"
     ]
    }
   ],
   "source": [
    "#Building the Model \n",
    "kfold = RepeatedKFold(n_splits=5, n_repeats=50, random_state=seed)\n",
    "log_reg_rep = LogisticRegression()\n",
    "log_reg_rep.fit(X_train, y_train)\n",
    "predictions = log_reg_rep.predict(X_test)\n",
    "print( 'Test accuracy :', (accuracy_score(y_test, log_reg_rep.predict(X_test))))\n",
    "scores_rep = cross_val_score(log_reg_rep, X_test, y_test, cv = kfold)"
   ]
  },
  {
   "cell_type": "code",
   "execution_count": 956,
   "metadata": {},
   "outputs": [
    {
     "name": "stdout",
     "output_type": "stream",
     "text": [
      "Mean with default parameters is equal to: 0.9559285714285716\n",
      "Standard error with default parameters is equal to: 0.005111375322943178\n"
     ]
    }
   ],
   "source": [
    "#Finding the mean and the standard error for logistic regression-repeated and default parameters\n",
    "print(\"Mean with default parameters is equal to:\",scores_rep.mean())\n",
    "print(\"Standard error with default parameters is equal to:\",stats.sem(scores_rep))"
   ]
  },
  {
   "cell_type": "markdown",
   "metadata": {},
   "source": [
    "### With Hyperparameters"
   ]
  },
  {
   "cell_type": "code",
   "execution_count": 957,
   "metadata": {},
   "outputs": [
    {
     "name": "stdout",
     "output_type": "stream",
     "text": [
      "Fitting 250 folds for each of 126 candidates, totalling 31500 fits\n"
     ]
    },
    {
     "name": "stderr",
     "output_type": "stream",
     "text": [
      "[Parallel(n_jobs=-1)]: Using backend LokyBackend with 8 concurrent workers.\n",
      "[Parallel(n_jobs=-1)]: Done  34 tasks      | elapsed:    5.1s\n",
      "[Parallel(n_jobs=-1)]: Done 1560 tasks      | elapsed:   11.1s\n",
      "[Parallel(n_jobs=-1)]: Done 5560 tasks      | elapsed:   29.8s\n",
      "[Parallel(n_jobs=-1)]: Done 10104 tasks      | elapsed:   54.6s\n",
      "[Parallel(n_jobs=-1)]: Done 13704 tasks      | elapsed:  1.3min\n",
      "[Parallel(n_jobs=-1)]: Done 18104 tasks      | elapsed:  1.8min\n",
      "[Parallel(n_jobs=-1)]: Done 23304 tasks      | elapsed:  2.4min\n",
      "[Parallel(n_jobs=-1)]: Done 29304 tasks      | elapsed:  3.1min\n"
     ]
    },
    {
     "name": "stdout",
     "output_type": "stream",
     "text": [
      "Best grid parameters: {'classifier__C': 0.9500000000000003, 'classifier__penalty': 'l2', 'classifier__solver': 'newton-cg'} \n",
      "\n",
      "Classifier used     : Pipeline(steps=[('scaler', StandardScaler()),\n",
      "                ('classifier',\n",
      "                 LogisticRegression(C=0.9500000000000003, random_state=150,\n",
      "                                    solver='newton-cg'))]) \n",
      "\n"
     ]
    },
    {
     "name": "stderr",
     "output_type": "stream",
     "text": [
      "[Parallel(n_jobs=-1)]: Done 31500 out of 31500 | elapsed:  3.4min finished\n"
     ]
    }
   ],
   "source": [
    "pipe = Pipeline(steps=[('scaler', StandardScaler()),\n",
    "                       ('classifier', LogisticRegression(random_state=seed))])\n",
    "\n",
    "params = [{'classifier__C'      : np.arange(0.1, 1, 0.05), \n",
    "           'classifier__penalty': ['l1'], \n",
    "           'classifier__solver' : ['liblinear', 'saga']},\n",
    "          \n",
    "          {'classifier__C'      : np.arange(0.1, 1, 0.05), \n",
    "           'classifier__penalty': ['l2'], \n",
    "           'classifier__solver' : ['liblinear', 'newton-cg', 'lbfgs', 'sag', 'saga']}\n",
    "         ]\n",
    "kfold = RepeatedKFold(n_splits=5, n_repeats=50, random_state=seed)\n",
    "\n",
    "grid_repeated = GridSearchCV(pipe, param_grid=params, cv=kfold, verbose=1, n_jobs=-1)\n",
    "grid_repeated.fit(X_train, y_train)\n",
    "\n",
    "print('Best grid parameters:', grid_repeated.best_params_, '\\n')\n",
    "print('Classifier used     :',grid_repeated.best_estimator_,'\\n')"
   ]
  },
  {
   "cell_type": "code",
   "execution_count": 958,
   "metadata": {},
   "outputs": [],
   "source": [
    "kfold = RepeatedKFold(n_splits=5, n_repeats=50, random_state=seed)\n",
    "log_reg_reph = LogisticRegression(C = 0.95, solver='newton-cg',penalty='l2') \n",
    "scores_reph = cross_val_score(log_reg_reph, X_test, y_test, cv = kfold)"
   ]
  },
  {
   "cell_type": "code",
   "execution_count": 959,
   "metadata": {},
   "outputs": [
    {
     "name": "stdout",
     "output_type": "stream",
     "text": [
      "Mean with hyperparameters is equal to: 0.9554285714285715\n",
      "Standard error with hyperparameters is equal to: 0.005118511893407163\n"
     ]
    }
   ],
   "source": [
    "#Finding the mean and the standard error for logistic regression-repeated and hyperparameters \n",
    "print(\"Mean with hyperparameters is equal to:\",scores_reph.mean())\n",
    "print(\"Standard error with hyperparameters is equal to:\",stats.sem(scores_reph))"
   ]
  },
  {
   "cell_type": "markdown",
   "metadata": {},
   "source": [
    "Note 3: When we build the model with hyperparameters, mean and standard error values change. Moreover, if it is compared to single cross validation, values change with repeated k-fold cross-validation. This changing also shows that our model is not constant.Moreover, repeated k-fold cross validation not only changes mean and standard error but also changes hyperparameters."
   ]
  },
  {
   "cell_type": "markdown",
   "metadata": {},
   "source": [
    "## b- Building kNN Model"
   ]
  },
  {
   "cell_type": "markdown",
   "metadata": {},
   "source": [
    "### With Default Parameters"
   ]
  },
  {
   "cell_type": "code",
   "execution_count": 960,
   "metadata": {},
   "outputs": [],
   "source": [
    "df5= df.copy()\n",
    "y = df5.species\n",
    "columns = ['sepal_length', 'sepal_width', 'petal_length', 'petal_width'] \n",
    "X = df5[columns]"
   ]
  },
  {
   "cell_type": "code",
   "execution_count": 961,
   "metadata": {},
   "outputs": [],
   "source": [
    "seed = 150\n",
    "X_train, X_test, y_train, y_test = train_test_split(X, y, test_size=0.25, random_state=seed)"
   ]
  },
  {
   "cell_type": "code",
   "execution_count": 962,
   "metadata": {},
   "outputs": [],
   "source": [
    "# We should scale the data in kNN \n",
    "scalerX = StandardScaler().fit(X_train)\n",
    "X_train = scalerX.transform(X_train)\n",
    "X_test = scalerX.transform(X_test)"
   ]
  },
  {
   "cell_type": "code",
   "execution_count": 963,
   "metadata": {},
   "outputs": [
    {
     "name": "stdout",
     "output_type": "stream",
     "text": [
      "Test accuracy : 0.9473684210526315\n"
     ]
    }
   ],
   "source": [
    "kfold = RepeatedKFold(n_splits=5, n_repeats=50, random_state=seed)\n",
    "knn_clf_rep = KNeighborsClassifier(n_neighbors = 5)\n",
    "knn_clf_rep.fit(X_train, y_train)\n",
    "predictions = knn_clf_rep.predict(X_test)\n",
    "print( 'Test accuracy :', (accuracy_score(y_test, knn_clf_rep.predict(X_test))))\n",
    "knn_scores_rep = cross_val_score(knn_clf_rep, X_test, y_test, cv= kfold)"
   ]
  },
  {
   "cell_type": "code",
   "execution_count": 964,
   "metadata": {},
   "outputs": [
    {
     "name": "stdout",
     "output_type": "stream",
     "text": [
      "Mean with default parameters is equal to: 0.9335714285714286\n",
      "Standard error with default parameters is equal to: 0.005556115590710796\n"
     ]
    }
   ],
   "source": [
    "#Finding the mean and the standard error for kNN-repeated and default parameters \n",
    "print(\"Mean with default parameters is equal to:\",knn_scores_rep.mean())\n",
    "print(\"Standard error with default parameters is equal to:\",stats.sem(knn_scores_rep))"
   ]
  },
  {
   "cell_type": "markdown",
   "metadata": {},
   "source": [
    "### With Hyperparameters"
   ]
  },
  {
   "cell_type": "code",
   "execution_count": 965,
   "metadata": {},
   "outputs": [
    {
     "name": "stdout",
     "output_type": "stream",
     "text": [
      "Fitting 250 folds for each of 60 candidates, totalling 15000 fits\n"
     ]
    },
    {
     "name": "stderr",
     "output_type": "stream",
     "text": [
      "[Parallel(n_jobs=-1)]: Using backend LokyBackend with 8 concurrent workers.\n",
      "[Parallel(n_jobs=-1)]: Done  56 tasks      | elapsed:    0.2s\n",
      "[Parallel(n_jobs=-1)]: Done 3824 tasks      | elapsed:    5.6s\n",
      "[Parallel(n_jobs=-1)]: Done 11824 tasks      | elapsed:   18.4s\n"
     ]
    },
    {
     "name": "stdout",
     "output_type": "stream",
     "text": [
      "Best grid parameters: {'clf__n_neighbors': 11, 'clf__p': 1, 'clf__weights': 'uniform'} \n",
      "\n",
      "Classifier used: Pipeline(steps=[('scaler', StandardScaler()),\n",
      "                ('clf', KNeighborsClassifier(n_neighbors=11, p=1))]) \n",
      "\n"
     ]
    },
    {
     "name": "stderr",
     "output_type": "stream",
     "text": [
      "[Parallel(n_jobs=-1)]: Done 15000 out of 15000 | elapsed:   23.2s finished\n"
     ]
    }
   ],
   "source": [
    "#Searching best grid parameters \n",
    "pipeline = Pipeline([('scaler', StandardScaler()),\n",
    "                     ('clf', KNeighborsClassifier()) ])\n",
    "\n",
    "params = [{'clf__n_neighbors': np.arange(1, 30, 2), \n",
    "           'clf__weights'    : ['uniform', 'distance'], \n",
    "           'clf__p'          : [1, 2]} ] \n",
    "\n",
    "kfold = RepeatedKFold(n_splits=5, n_repeats=50, random_state=seed)\n",
    "grid = GridSearchCV(estimator = pipeline, param_grid = params, cv = kfold, verbose=1, n_jobs=-1)\n",
    "grid.fit(X_train, y_train)\n",
    "\n",
    "print('Best grid parameters:', grid.best_params_, '\\n')\n",
    "print('Classifier used:', grid.best_estimator_,'\\n')"
   ]
  },
  {
   "cell_type": "code",
   "execution_count": 966,
   "metadata": {},
   "outputs": [],
   "source": [
    "kfold = RepeatedKFold(n_splits=5, n_repeats=50, random_state=seed)\n",
    "knn_clf_reph = KNeighborsClassifier(n_neighbors = 11, weights='uniform', p= 1)\n",
    "knn_scores_reph = cross_val_score(knn_clf_rep, X_test, y_test, cv= kfold)"
   ]
  },
  {
   "cell_type": "code",
   "execution_count": 967,
   "metadata": {},
   "outputs": [
    {
     "name": "stdout",
     "output_type": "stream",
     "text": [
      "Mean with hyperparameters is equal to: 0.9335714285714286\n",
      "Standard error with hyperparameters is equal to: 0.005556115590710796\n"
     ]
    }
   ],
   "source": [
    "#Finding the mean and the standard error for kNN-repeated \n",
    "print(\"Mean with hyperparameters is equal to:\",knn_scores_reph.mean())\n",
    "print(\"Standard error with hyperparameters is equal to:\",stats.sem(knn_scores_reph))"
   ]
  },
  {
   "cell_type": "markdown",
   "metadata": {},
   "source": [
    "Note 4: When we build the model with hyperparameters, mean and standard error values does not change. However, if it is compared to single k-fold cross validation, values become different with repeated k-fold cross-validation. This difference also \n",
    "shows that our model is not constant."
   ]
  },
  {
   "cell_type": "markdown",
   "metadata": {},
   "source": [
    "## Plotting Charts "
   ]
  },
  {
   "cell_type": "markdown",
   "metadata": {},
   "source": [
    "### a- Logistic Regression"
   ]
  },
  {
   "cell_type": "code",
   "execution_count": 968,
   "metadata": {},
   "outputs": [
    {
     "data": {
      "text/plain": [
       "250"
      ]
     },
     "execution_count": 968,
     "metadata": {},
     "output_type": "execute_result"
    }
   ],
   "source": [
    "len(scores_rep) "
   ]
  },
  {
   "cell_type": "code",
   "execution_count": 969,
   "metadata": {},
   "outputs": [],
   "source": [
    "#Creating 100 lists with each 5 element \n",
    "log_list = []\n",
    "for e in range(0,250,5): \n",
    "    log_list.append([scores_rep[e:e+5]])"
   ]
  },
  {
   "cell_type": "code",
   "execution_count": 970,
   "metadata": {},
   "outputs": [
    {
     "data": {
      "text/plain": [
       "50"
      ]
     },
     "execution_count": 970,
     "metadata": {},
     "output_type": "execute_result"
    }
   ],
   "source": [
    "len(log_list)"
   ]
  },
  {
   "cell_type": "code",
   "execution_count": 971,
   "metadata": {},
   "outputs": [],
   "source": [
    "#Finding mean of each 5 element \n",
    "mean_list=[]\n",
    "for i in range(len(log_list)):\n",
    "    mean_list.append(np.array(log_list[i]).mean())"
   ]
  },
  {
   "cell_type": "code",
   "execution_count": 972,
   "metadata": {},
   "outputs": [],
   "source": [
    "#Finding standard deviation of each 5 element \n",
    "std_list=[]\n",
    "for i in range(len(log_list)):\n",
    "    std_list.append(stats.sem(np.array(log_list[i]), axis=None, ddof=0))"
   ]
  },
  {
   "cell_type": "code",
   "execution_count": 973,
   "metadata": {},
   "outputs": [
    {
     "data": {
      "image/png": "[encoded data removed]",
      "text/plain": [
       "<Figure size 576x432 with 1 Axes>"
      ]
     },
     "metadata": {
      "needs_background": "light"
     },
     "output_type": "display_data"
    }
   ],
   "source": [
    "#Plotting Graph for Mean Values \n",
    "mean_list_graph = np.array(mean_list)\n",
    "plt.figure(figsize=(8, 6))\n",
    "plt.plot(mean_list_graph, color = 'red') \n",
    "plt.title('Mean of Repeated k-fold Cross Val.with Log.Reg.')\n",
    "plt.xlabel('Iteration')\n",
    "plt.ylabel('Mean Values')\n",
    "plt.show(); "
   ]
  },
  {
   "cell_type": "code",
   "execution_count": 974,
   "metadata": {},
   "outputs": [
    {
     "data": {
      "image/png": "[encoded data removed]",
      "text/plain": [
       "<Figure size 576x432 with 1 Axes>"
      ]
     },
     "metadata": {
      "needs_background": "light"
     },
     "output_type": "display_data"
    }
   ],
   "source": [
    "#Plotting Graph for Standard Error  \n",
    "std_list_graph = np.array(std_list)\n",
    "plt.figure(figsize=(8, 6))\n",
    "plt.plot(std_list_graph, color = 'green') \n",
    "plt.title('Std. Error of Repeated k-fold Cross Val.with Log.Reg.')\n",
    "plt.xlabel('Iteration')\n",
    "plt.ylabel('Stadard Error Values')\n",
    "plt.show(); "
   ]
  },
  {
   "cell_type": "markdown",
   "metadata": {},
   "source": [
    "Note 5: Variation of mean and standard error values decrease when the number of iterations increase from the graphs as above. \n",
    "These mean and standard error graphs prove that there is a relationship between number of repetition and model stability.When number of iteration increase, model becomes more stable and reliable."
   ]
  },
  {
   "cell_type": "markdown",
   "metadata": {},
   "source": [
    "### b- kNN"
   ]
  },
  {
   "cell_type": "code",
   "execution_count": 975,
   "metadata": {},
   "outputs": [],
   "source": [
    "#Creating 100 lists with each 5 element \n",
    "knn_list = []\n",
    "for e in range(0,250,5): \n",
    "    knn_list.append([knn_scores_reph[e:e+5]])"
   ]
  },
  {
   "cell_type": "code",
   "execution_count": 976,
   "metadata": {},
   "outputs": [],
   "source": [
    "#Finding mean of each 5 element \n",
    "mean_knn_list=[]\n",
    "for i in range(len(log_list)):\n",
    "    mean_knn_list.append(np.array(knn_list[i]).mean())"
   ]
  },
  {
   "cell_type": "code",
   "execution_count": 977,
   "metadata": {},
   "outputs": [],
   "source": [
    "#Finding standard deviation of each 5 element \n",
    "std_knn_list=[]\n",
    "for i in range(len(log_list)):\n",
    "    std_knn_list.append(stats.sem(np.array(knn_list[i]), axis=None, ddof=0))"
   ]
  },
  {
   "cell_type": "code",
   "execution_count": 978,
   "metadata": {},
   "outputs": [
    {
     "data": {
      "image/png": "[encoded data removed]",
      "text/plain": [
       "<Figure size 576x432 with 1 Axes>"
      ]
     },
     "metadata": {
      "needs_background": "light"
     },
     "output_type": "display_data"
    }
   ],
   "source": [
    "#Plotting Graph for Mean Values \n",
    "mean_graph_knn = np.array(mean_knn_list)\n",
    "plt.figure(figsize=(8, 6))\n",
    "plt.plot(mean_graph_knn, color = 'red') \n",
    "plt.title('Mean of Repeated k-fold Cross Val.with kNN')\n",
    "plt.xlabel('Iteration')\n",
    "plt.ylabel('Mean Values')\n",
    "plt.show(); "
   ]
  },
  {
   "cell_type": "code",
   "execution_count": 979,
   "metadata": {},
   "outputs": [
    {
     "data": {
      "image/png": "[encoded data removed]",
      "text/plain": [
       "<Figure size 576x432 with 1 Axes>"
      ]
     },
     "metadata": {
      "needs_background": "light"
     },
     "output_type": "display_data"
    }
   ],
   "source": [
    "#Plotting Graph for Standard Error\n",
    "std_graph_knn = np.array(std_knn_list)\n",
    "plt.figure(figsize=(8, 6))\n",
    "plt.plot(std_graph_knn, color = 'green') \n",
    "plt.title('Std. Error of Repeated k-fold Cross Val.with kNN')\n",
    "plt.xlabel('Fold')\n",
    "plt.ylabel('Standard Error Values')\n",
    "plt.show(); "
   ]
  },
  {
   "cell_type": "markdown",
   "metadata": {},
   "source": [
    "Note 6: These mean and standard error graphs for kNN as above also show that increasing number of iterations makes model more \n",
    "stable and reliable. Fluctuation of mean and standard error decrease when the number of iterations increase."
   ]
  },
  {
   "cell_type": "markdown",
   "metadata": {},
   "source": [
    "# Q2. Are my test and train sets from the same population? (30 pts)\n",
    "For answering this question, you are expected to use the data set we used for the solution of the Telco churn problem we solved in class.\n",
    "\n",
    "Given the train (**gsmchurn_train.csv**) and test (**gsmchurn_test.csv**) data sets, you're expected to work on a classification problem for predicting churn. Having received not successful results despite all your efforts to tune the model for this specific job, you suspect that the train and test sets may not be coming from the same population. One way to check for the similarity between train and test sets could be to design a binary classification problem to shed some light on this issue.    \n",
    "\n",
    "Imagine you mark each set (both train and test) with a special flag added as a column to these data sets indicating that they are either train or test sets. You can then combine these data sets into a single data frame and apply a classification model of your choice. If you are able to accurately classify whether the sample comes from the test or training set then the predictor variables have different underlying distributions. If not, you can safely assume that there is reasonable similarity between the train and test sets. One way to check this could be building the model and then finding the value of the probability that a randomly chosen positive example has a higher score (rank) than a randomly chosen negative example. Correct interpretation of this probability will help you come to a conclusion. "
   ]
  },
  {
   "cell_type": "markdown",
   "metadata": {},
   "source": [
    "#### Answer 2 "
   ]
  },
  {
   "cell_type": "code",
   "execution_count": 254,
   "metadata": {},
   "outputs": [
    {
     "data": {
      "text/html": [
       "<div>\n",
       "<style scoped>\n",
       "    .dataframe tbody tr th:only-of-type {\n",
       "        vertical-align: middle;\n",
       "    }\n",
       "\n",
       "    .dataframe tbody tr th {\n",
       "        vertical-align: top;\n",
       "    }\n",
       "\n",
       "    .dataframe thead th {\n",
       "        text-align: right;\n",
       "    }\n",
       "</style>\n",
       "<table border=\"1\" class=\"dataframe\">\n",
       "  <thead>\n",
       "    <tr style=\"text-align: right;\">\n",
       "      <th></th>\n",
       "      <th>Account_Length</th>\n",
       "      <th>Intl_Plan</th>\n",
       "      <th>VMail_Plan</th>\n",
       "      <th>VMail_Message</th>\n",
       "      <th>Day_Mins</th>\n",
       "      <th>Day_Calls</th>\n",
       "      <th>Eve_Mins</th>\n",
       "      <th>Eve_Calls</th>\n",
       "      <th>Night_Mins</th>\n",
       "      <th>Night_Calls</th>\n",
       "      <th>Intl_Mins</th>\n",
       "      <th>Intl_Calls</th>\n",
       "      <th>CustServ_Calls</th>\n",
       "      <th>Churn</th>\n",
       "    </tr>\n",
       "  </thead>\n",
       "  <tbody>\n",
       "    <tr>\n",
       "      <th>0</th>\n",
       "      <td>48</td>\n",
       "      <td>0</td>\n",
       "      <td>0</td>\n",
       "      <td>0</td>\n",
       "      <td>149.2</td>\n",
       "      <td>146</td>\n",
       "      <td>161.9</td>\n",
       "      <td>109</td>\n",
       "      <td>197.9</td>\n",
       "      <td>109</td>\n",
       "      <td>8.3</td>\n",
       "      <td>2</td>\n",
       "      <td>3</td>\n",
       "      <td>0</td>\n",
       "    </tr>\n",
       "    <tr>\n",
       "      <th>1</th>\n",
       "      <td>90</td>\n",
       "      <td>0</td>\n",
       "      <td>1</td>\n",
       "      <td>39</td>\n",
       "      <td>94.8</td>\n",
       "      <td>89</td>\n",
       "      <td>219.1</td>\n",
       "      <td>91</td>\n",
       "      <td>197.4</td>\n",
       "      <td>65</td>\n",
       "      <td>11.4</td>\n",
       "      <td>5</td>\n",
       "      <td>1</td>\n",
       "      <td>0</td>\n",
       "    </tr>\n",
       "    <tr>\n",
       "      <th>2</th>\n",
       "      <td>64</td>\n",
       "      <td>0</td>\n",
       "      <td>0</td>\n",
       "      <td>0</td>\n",
       "      <td>219.6</td>\n",
       "      <td>126</td>\n",
       "      <td>303.3</td>\n",
       "      <td>100</td>\n",
       "      <td>154.5</td>\n",
       "      <td>65</td>\n",
       "      <td>9.7</td>\n",
       "      <td>5</td>\n",
       "      <td>1</td>\n",
       "      <td>0</td>\n",
       "    </tr>\n",
       "    <tr>\n",
       "      <th>3</th>\n",
       "      <td>147</td>\n",
       "      <td>0</td>\n",
       "      <td>0</td>\n",
       "      <td>0</td>\n",
       "      <td>130.6</td>\n",
       "      <td>83</td>\n",
       "      <td>208.1</td>\n",
       "      <td>144</td>\n",
       "      <td>204.6</td>\n",
       "      <td>72</td>\n",
       "      <td>15.6</td>\n",
       "      <td>3</td>\n",
       "      <td>3</td>\n",
       "      <td>0</td>\n",
       "    </tr>\n",
       "    <tr>\n",
       "      <th>4</th>\n",
       "      <td>97</td>\n",
       "      <td>0</td>\n",
       "      <td>1</td>\n",
       "      <td>32</td>\n",
       "      <td>90.0</td>\n",
       "      <td>87</td>\n",
       "      <td>276.3</td>\n",
       "      <td>113</td>\n",
       "      <td>185.2</td>\n",
       "      <td>107</td>\n",
       "      <td>8.6</td>\n",
       "      <td>6</td>\n",
       "      <td>2</td>\n",
       "      <td>1</td>\n",
       "    </tr>\n",
       "  </tbody>\n",
       "</table>\n",
       "</div>"
      ],
      "text/plain": [
       "   Account_Length  Intl_Plan  VMail_Plan  VMail_Message  Day_Mins  Day_Calls  \\\n",
       "0              48          0           0              0     149.2        146   \n",
       "1              90          0           1             39      94.8         89   \n",
       "2              64          0           0              0     219.6        126   \n",
       "3             147          0           0              0     130.6         83   \n",
       "4              97          0           1             32      90.0         87   \n",
       "\n",
       "   Eve_Mins  Eve_Calls  Night_Mins  Night_Calls  Intl_Mins  Intl_Calls  \\\n",
       "0     161.9        109       197.9          109        8.3           2   \n",
       "1     219.1         91       197.4           65       11.4           5   \n",
       "2     303.3        100       154.5           65        9.7           5   \n",
       "3     208.1        144       204.6           72       15.6           3   \n",
       "4     276.3        113       185.2          107        8.6           6   \n",
       "\n",
       "   CustServ_Calls  Churn  \n",
       "0               3      0  \n",
       "1               1      0  \n",
       "2               1      0  \n",
       "3               3      0  \n",
       "4               2      1  "
      ]
     },
     "execution_count": 254,
     "metadata": {},
     "output_type": "execute_result"
    }
   ],
   "source": [
    "df_churn = pd.read_csv('gsmchurn_train.csv') \n",
    "df_churn.head() "
   ]
  },
  {
   "cell_type": "code",
   "execution_count": 255,
   "metadata": {},
   "outputs": [
    {
     "data": {
      "text/html": [
       "<div>\n",
       "<style scoped>\n",
       "    .dataframe tbody tr th:only-of-type {\n",
       "        vertical-align: middle;\n",
       "    }\n",
       "\n",
       "    .dataframe tbody tr th {\n",
       "        vertical-align: top;\n",
       "    }\n",
       "\n",
       "    .dataframe thead th {\n",
       "        text-align: right;\n",
       "    }\n",
       "</style>\n",
       "<table border=\"1\" class=\"dataframe\">\n",
       "  <thead>\n",
       "    <tr style=\"text-align: right;\">\n",
       "      <th></th>\n",
       "      <th>Account_Length</th>\n",
       "      <th>Intl_Plan</th>\n",
       "      <th>VMail_Plan</th>\n",
       "      <th>VMail_Message</th>\n",
       "      <th>Day_Mins</th>\n",
       "      <th>Day_Calls</th>\n",
       "      <th>Eve_Mins</th>\n",
       "      <th>Eve_Calls</th>\n",
       "      <th>Night_Mins</th>\n",
       "      <th>Night_Calls</th>\n",
       "      <th>Intl_Mins</th>\n",
       "      <th>Intl_Calls</th>\n",
       "      <th>CustServ_Calls</th>\n",
       "      <th>Churn</th>\n",
       "    </tr>\n",
       "  </thead>\n",
       "  <tbody>\n",
       "    <tr>\n",
       "      <th>0</th>\n",
       "      <td>125</td>\n",
       "      <td>0</td>\n",
       "      <td>0</td>\n",
       "      <td>0</td>\n",
       "      <td>224.9</td>\n",
       "      <td>102</td>\n",
       "      <td>143.8</td>\n",
       "      <td>87</td>\n",
       "      <td>198.9</td>\n",
       "      <td>105</td>\n",
       "      <td>8.0</td>\n",
       "      <td>2</td>\n",
       "      <td>0</td>\n",
       "      <td>0</td>\n",
       "    </tr>\n",
       "    <tr>\n",
       "      <th>1</th>\n",
       "      <td>162</td>\n",
       "      <td>0</td>\n",
       "      <td>0</td>\n",
       "      <td>0</td>\n",
       "      <td>115.1</td>\n",
       "      <td>89</td>\n",
       "      <td>196.8</td>\n",
       "      <td>111</td>\n",
       "      <td>212.4</td>\n",
       "      <td>98</td>\n",
       "      <td>11.4</td>\n",
       "      <td>3</td>\n",
       "      <td>2</td>\n",
       "      <td>0</td>\n",
       "    </tr>\n",
       "    <tr>\n",
       "      <th>2</th>\n",
       "      <td>127</td>\n",
       "      <td>0</td>\n",
       "      <td>1</td>\n",
       "      <td>36</td>\n",
       "      <td>183.2</td>\n",
       "      <td>117</td>\n",
       "      <td>126.8</td>\n",
       "      <td>76</td>\n",
       "      <td>263.3</td>\n",
       "      <td>71</td>\n",
       "      <td>11.2</td>\n",
       "      <td>8</td>\n",
       "      <td>1</td>\n",
       "      <td>0</td>\n",
       "    </tr>\n",
       "    <tr>\n",
       "      <th>3</th>\n",
       "      <td>110</td>\n",
       "      <td>0</td>\n",
       "      <td>0</td>\n",
       "      <td>0</td>\n",
       "      <td>227.7</td>\n",
       "      <td>88</td>\n",
       "      <td>170.0</td>\n",
       "      <td>96</td>\n",
       "      <td>128.7</td>\n",
       "      <td>57</td>\n",
       "      <td>11.7</td>\n",
       "      <td>5</td>\n",
       "      <td>1</td>\n",
       "      <td>0</td>\n",
       "    </tr>\n",
       "    <tr>\n",
       "      <th>4</th>\n",
       "      <td>129</td>\n",
       "      <td>1</td>\n",
       "      <td>0</td>\n",
       "      <td>0</td>\n",
       "      <td>267.4</td>\n",
       "      <td>78</td>\n",
       "      <td>204.2</td>\n",
       "      <td>85</td>\n",
       "      <td>111.7</td>\n",
       "      <td>146</td>\n",
       "      <td>5.9</td>\n",
       "      <td>4</td>\n",
       "      <td>1</td>\n",
       "      <td>0</td>\n",
       "    </tr>\n",
       "  </tbody>\n",
       "</table>\n",
       "</div>"
      ],
      "text/plain": [
       "   Account_Length  Intl_Plan  VMail_Plan  VMail_Message  Day_Mins  Day_Calls  \\\n",
       "0             125          0           0              0     224.9        102   \n",
       "1             162          0           0              0     115.1         89   \n",
       "2             127          0           1             36     183.2        117   \n",
       "3             110          0           0              0     227.7         88   \n",
       "4             129          1           0              0     267.4         78   \n",
       "\n",
       "   Eve_Mins  Eve_Calls  Night_Mins  Night_Calls  Intl_Mins  Intl_Calls  \\\n",
       "0     143.8         87       198.9          105        8.0           2   \n",
       "1     196.8        111       212.4           98       11.4           3   \n",
       "2     126.8         76       263.3           71       11.2           8   \n",
       "3     170.0         96       128.7           57       11.7           5   \n",
       "4     204.2         85       111.7          146        5.9           4   \n",
       "\n",
       "   CustServ_Calls  Churn  \n",
       "0               0      0  \n",
       "1               2      0  \n",
       "2               1      0  \n",
       "3               1      0  \n",
       "4               1      0  "
      ]
     },
     "execution_count": 255,
     "metadata": {},
     "output_type": "execute_result"
    }
   ],
   "source": [
    "df_test = pd.read_csv('gsmchurn_test.csv') \n",
    "df_test.head() "
   ]
  },
  {
   "cell_type": "code",
   "execution_count": 256,
   "metadata": {},
   "outputs": [
    {
     "data": {
      "text/plain": [
       "(2333, 14)"
      ]
     },
     "execution_count": 256,
     "metadata": {},
     "output_type": "execute_result"
    }
   ],
   "source": [
    "df_churn.shape"
   ]
  },
  {
   "cell_type": "code",
   "execution_count": 257,
   "metadata": {},
   "outputs": [
    {
     "data": {
      "text/plain": [
       "(1000, 14)"
      ]
     },
     "execution_count": 257,
     "metadata": {},
     "output_type": "execute_result"
    }
   ],
   "source": [
    "df_test.shape"
   ]
  },
  {
   "cell_type": "code",
   "execution_count": 258,
   "metadata": {},
   "outputs": [
    {
     "name": "stdout",
     "output_type": "stream",
     "text": [
      "<class 'pandas.core.frame.DataFrame'>\n",
      "RangeIndex: 2333 entries, 0 to 2332\n",
      "Data columns (total 14 columns):\n",
      " #   Column          Non-Null Count  Dtype  \n",
      "---  ------          --------------  -----  \n",
      " 0   Account_Length  2333 non-null   int64  \n",
      " 1   Intl_Plan       2333 non-null   int64  \n",
      " 2   VMail_Plan      2333 non-null   int64  \n",
      " 3   VMail_Message   2333 non-null   int64  \n",
      " 4   Day_Mins        2333 non-null   float64\n",
      " 5   Day_Calls       2333 non-null   int64  \n",
      " 6   Eve_Mins        2333 non-null   float64\n",
      " 7   Eve_Calls       2333 non-null   int64  \n",
      " 8   Night_Mins      2333 non-null   float64\n",
      " 9   Night_Calls     2333 non-null   int64  \n",
      " 10  Intl_Mins       2333 non-null   float64\n",
      " 11  Intl_Calls      2333 non-null   int64  \n",
      " 12  CustServ_Calls  2333 non-null   int64  \n",
      " 13  Churn           2333 non-null   int64  \n",
      "dtypes: float64(4), int64(10)\n",
      "memory usage: 255.3 KB\n"
     ]
    }
   ],
   "source": [
    "df_churn.info()"
   ]
  },
  {
   "cell_type": "code",
   "execution_count": 259,
   "metadata": {},
   "outputs": [
    {
     "name": "stdout",
     "output_type": "stream",
     "text": [
      "<class 'pandas.core.frame.DataFrame'>\n",
      "RangeIndex: 1000 entries, 0 to 999\n",
      "Data columns (total 14 columns):\n",
      " #   Column          Non-Null Count  Dtype  \n",
      "---  ------          --------------  -----  \n",
      " 0   Account_Length  1000 non-null   int64  \n",
      " 1   Intl_Plan       1000 non-null   int64  \n",
      " 2   VMail_Plan      1000 non-null   int64  \n",
      " 3   VMail_Message   1000 non-null   int64  \n",
      " 4   Day_Mins        1000 non-null   float64\n",
      " 5   Day_Calls       1000 non-null   int64  \n",
      " 6   Eve_Mins        1000 non-null   float64\n",
      " 7   Eve_Calls       1000 non-null   int64  \n",
      " 8   Night_Mins      1000 non-null   float64\n",
      " 9   Night_Calls     1000 non-null   int64  \n",
      " 10  Intl_Mins       1000 non-null   float64\n",
      " 11  Intl_Calls      1000 non-null   int64  \n",
      " 12  CustServ_Calls  1000 non-null   int64  \n",
      " 13  Churn           1000 non-null   int64  \n",
      "dtypes: float64(4), int64(10)\n",
      "memory usage: 109.5 KB\n"
     ]
    }
   ],
   "source": [
    "df_test.info()"
   ]
  },
  {
   "cell_type": "code",
   "execution_count": 260,
   "metadata": {},
   "outputs": [],
   "source": [
    "#Creating new column for train and test data \n",
    "kpi_train_cust = [0,1]\n",
    "df_churn['kpi_is_train'] =  kpi_train_cust[1]\n",
    "df_test['kpi_is_train'] = kpi_train_cust[0]"
   ]
  },
  {
   "cell_type": "code",
   "execution_count": 261,
   "metadata": {},
   "outputs": [
    {
     "data": {
      "text/html": [
       "<div>\n",
       "<style scoped>\n",
       "    .dataframe tbody tr th:only-of-type {\n",
       "        vertical-align: middle;\n",
       "    }\n",
       "\n",
       "    .dataframe tbody tr th {\n",
       "        vertical-align: top;\n",
       "    }\n",
       "\n",
       "    .dataframe thead th {\n",
       "        text-align: right;\n",
       "    }\n",
       "</style>\n",
       "<table border=\"1\" class=\"dataframe\">\n",
       "  <thead>\n",
       "    <tr style=\"text-align: right;\">\n",
       "      <th></th>\n",
       "      <th>Account_Length</th>\n",
       "      <th>Intl_Plan</th>\n",
       "      <th>VMail_Plan</th>\n",
       "      <th>VMail_Message</th>\n",
       "      <th>Day_Mins</th>\n",
       "      <th>Day_Calls</th>\n",
       "      <th>Eve_Mins</th>\n",
       "      <th>Eve_Calls</th>\n",
       "      <th>Night_Mins</th>\n",
       "      <th>Night_Calls</th>\n",
       "      <th>Intl_Mins</th>\n",
       "      <th>Intl_Calls</th>\n",
       "      <th>CustServ_Calls</th>\n",
       "      <th>Churn</th>\n",
       "      <th>kpi_is_train</th>\n",
       "    </tr>\n",
       "  </thead>\n",
       "  <tbody>\n",
       "    <tr>\n",
       "      <th>0</th>\n",
       "      <td>48</td>\n",
       "      <td>0</td>\n",
       "      <td>0</td>\n",
       "      <td>0</td>\n",
       "      <td>149.2</td>\n",
       "      <td>146</td>\n",
       "      <td>161.9</td>\n",
       "      <td>109</td>\n",
       "      <td>197.9</td>\n",
       "      <td>109</td>\n",
       "      <td>8.3</td>\n",
       "      <td>2</td>\n",
       "      <td>3</td>\n",
       "      <td>0</td>\n",
       "      <td>1</td>\n",
       "    </tr>\n",
       "    <tr>\n",
       "      <th>1</th>\n",
       "      <td>90</td>\n",
       "      <td>0</td>\n",
       "      <td>1</td>\n",
       "      <td>39</td>\n",
       "      <td>94.8</td>\n",
       "      <td>89</td>\n",
       "      <td>219.1</td>\n",
       "      <td>91</td>\n",
       "      <td>197.4</td>\n",
       "      <td>65</td>\n",
       "      <td>11.4</td>\n",
       "      <td>5</td>\n",
       "      <td>1</td>\n",
       "      <td>0</td>\n",
       "      <td>1</td>\n",
       "    </tr>\n",
       "    <tr>\n",
       "      <th>2</th>\n",
       "      <td>64</td>\n",
       "      <td>0</td>\n",
       "      <td>0</td>\n",
       "      <td>0</td>\n",
       "      <td>219.6</td>\n",
       "      <td>126</td>\n",
       "      <td>303.3</td>\n",
       "      <td>100</td>\n",
       "      <td>154.5</td>\n",
       "      <td>65</td>\n",
       "      <td>9.7</td>\n",
       "      <td>5</td>\n",
       "      <td>1</td>\n",
       "      <td>0</td>\n",
       "      <td>1</td>\n",
       "    </tr>\n",
       "    <tr>\n",
       "      <th>3</th>\n",
       "      <td>147</td>\n",
       "      <td>0</td>\n",
       "      <td>0</td>\n",
       "      <td>0</td>\n",
       "      <td>130.6</td>\n",
       "      <td>83</td>\n",
       "      <td>208.1</td>\n",
       "      <td>144</td>\n",
       "      <td>204.6</td>\n",
       "      <td>72</td>\n",
       "      <td>15.6</td>\n",
       "      <td>3</td>\n",
       "      <td>3</td>\n",
       "      <td>0</td>\n",
       "      <td>1</td>\n",
       "    </tr>\n",
       "    <tr>\n",
       "      <th>4</th>\n",
       "      <td>97</td>\n",
       "      <td>0</td>\n",
       "      <td>1</td>\n",
       "      <td>32</td>\n",
       "      <td>90.0</td>\n",
       "      <td>87</td>\n",
       "      <td>276.3</td>\n",
       "      <td>113</td>\n",
       "      <td>185.2</td>\n",
       "      <td>107</td>\n",
       "      <td>8.6</td>\n",
       "      <td>6</td>\n",
       "      <td>2</td>\n",
       "      <td>1</td>\n",
       "      <td>1</td>\n",
       "    </tr>\n",
       "  </tbody>\n",
       "</table>\n",
       "</div>"
      ],
      "text/plain": [
       "   Account_Length  Intl_Plan  VMail_Plan  VMail_Message  Day_Mins  Day_Calls  \\\n",
       "0              48          0           0              0     149.2        146   \n",
       "1              90          0           1             39      94.8         89   \n",
       "2              64          0           0              0     219.6        126   \n",
       "3             147          0           0              0     130.6         83   \n",
       "4              97          0           1             32      90.0         87   \n",
       "\n",
       "   Eve_Mins  Eve_Calls  Night_Mins  Night_Calls  Intl_Mins  Intl_Calls  \\\n",
       "0     161.9        109       197.9          109        8.3           2   \n",
       "1     219.1         91       197.4           65       11.4           5   \n",
       "2     303.3        100       154.5           65        9.7           5   \n",
       "3     208.1        144       204.6           72       15.6           3   \n",
       "4     276.3        113       185.2          107        8.6           6   \n",
       "\n",
       "   CustServ_Calls  Churn  kpi_is_train  \n",
       "0               3      0             1  \n",
       "1               1      0             1  \n",
       "2               1      0             1  \n",
       "3               3      0             1  \n",
       "4               2      1             1  "
      ]
     },
     "execution_count": 261,
     "metadata": {},
     "output_type": "execute_result"
    }
   ],
   "source": [
    "df_churn.head()"
   ]
  },
  {
   "cell_type": "code",
   "execution_count": 262,
   "metadata": {},
   "outputs": [],
   "source": [
    "#Appending train and test data \n",
    "df_append = df_churn.append(df_test)"
   ]
  },
  {
   "cell_type": "code",
   "execution_count": 263,
   "metadata": {},
   "outputs": [
    {
     "data": {
      "text/plain": [
       "(3333, 15)"
      ]
     },
     "execution_count": 263,
     "metadata": {},
     "output_type": "execute_result"
    }
   ],
   "source": [
    "df_append.shape"
   ]
  },
  {
   "cell_type": "code",
   "execution_count": 264,
   "metadata": {
    "scrolled": true
   },
   "outputs": [
    {
     "data": {
      "text/html": [
       "<div>\n",
       "<style scoped>\n",
       "    .dataframe tbody tr th:only-of-type {\n",
       "        vertical-align: middle;\n",
       "    }\n",
       "\n",
       "    .dataframe tbody tr th {\n",
       "        vertical-align: top;\n",
       "    }\n",
       "\n",
       "    .dataframe thead th {\n",
       "        text-align: right;\n",
       "    }\n",
       "</style>\n",
       "<table border=\"1\" class=\"dataframe\">\n",
       "  <thead>\n",
       "    <tr style=\"text-align: right;\">\n",
       "      <th></th>\n",
       "      <th>Account_Length</th>\n",
       "      <th>Intl_Plan</th>\n",
       "      <th>VMail_Plan</th>\n",
       "      <th>VMail_Message</th>\n",
       "      <th>Day_Mins</th>\n",
       "      <th>Day_Calls</th>\n",
       "      <th>Eve_Mins</th>\n",
       "      <th>Eve_Calls</th>\n",
       "      <th>Night_Mins</th>\n",
       "      <th>Night_Calls</th>\n",
       "      <th>Intl_Mins</th>\n",
       "      <th>Intl_Calls</th>\n",
       "      <th>CustServ_Calls</th>\n",
       "      <th>Churn</th>\n",
       "      <th>kpi_is_train</th>\n",
       "    </tr>\n",
       "  </thead>\n",
       "  <tbody>\n",
       "    <tr>\n",
       "      <th>1935</th>\n",
       "      <td>127</td>\n",
       "      <td>1</td>\n",
       "      <td>0</td>\n",
       "      <td>0</td>\n",
       "      <td>242.2</td>\n",
       "      <td>102</td>\n",
       "      <td>226.1</td>\n",
       "      <td>80</td>\n",
       "      <td>252.0</td>\n",
       "      <td>96</td>\n",
       "      <td>13.9</td>\n",
       "      <td>5</td>\n",
       "      <td>2</td>\n",
       "      <td>1</td>\n",
       "      <td>1</td>\n",
       "    </tr>\n",
       "    <tr>\n",
       "      <th>1036</th>\n",
       "      <td>133</td>\n",
       "      <td>1</td>\n",
       "      <td>1</td>\n",
       "      <td>32</td>\n",
       "      <td>221.1</td>\n",
       "      <td>137</td>\n",
       "      <td>264.9</td>\n",
       "      <td>99</td>\n",
       "      <td>168.9</td>\n",
       "      <td>108</td>\n",
       "      <td>15.4</td>\n",
       "      <td>4</td>\n",
       "      <td>2</td>\n",
       "      <td>1</td>\n",
       "      <td>1</td>\n",
       "    </tr>\n",
       "    <tr>\n",
       "      <th>30</th>\n",
       "      <td>130</td>\n",
       "      <td>0</td>\n",
       "      <td>0</td>\n",
       "      <td>0</td>\n",
       "      <td>212.8</td>\n",
       "      <td>102</td>\n",
       "      <td>189.8</td>\n",
       "      <td>137</td>\n",
       "      <td>170.1</td>\n",
       "      <td>105</td>\n",
       "      <td>10.6</td>\n",
       "      <td>4</td>\n",
       "      <td>0</td>\n",
       "      <td>1</td>\n",
       "      <td>1</td>\n",
       "    </tr>\n",
       "    <tr>\n",
       "      <th>378</th>\n",
       "      <td>104</td>\n",
       "      <td>0</td>\n",
       "      <td>0</td>\n",
       "      <td>0</td>\n",
       "      <td>139.7</td>\n",
       "      <td>78</td>\n",
       "      <td>202.6</td>\n",
       "      <td>119</td>\n",
       "      <td>203.6</td>\n",
       "      <td>102</td>\n",
       "      <td>11.3</td>\n",
       "      <td>5</td>\n",
       "      <td>2</td>\n",
       "      <td>0</td>\n",
       "      <td>0</td>\n",
       "    </tr>\n",
       "    <tr>\n",
       "      <th>370</th>\n",
       "      <td>112</td>\n",
       "      <td>0</td>\n",
       "      <td>0</td>\n",
       "      <td>0</td>\n",
       "      <td>261.4</td>\n",
       "      <td>108</td>\n",
       "      <td>154.5</td>\n",
       "      <td>102</td>\n",
       "      <td>130.9</td>\n",
       "      <td>90</td>\n",
       "      <td>11.6</td>\n",
       "      <td>2</td>\n",
       "      <td>1</td>\n",
       "      <td>0</td>\n",
       "      <td>1</td>\n",
       "    </tr>\n",
       "  </tbody>\n",
       "</table>\n",
       "</div>"
      ],
      "text/plain": [
       "      Account_Length  Intl_Plan  VMail_Plan  VMail_Message  Day_Mins  \\\n",
       "1935             127          1           0              0     242.2   \n",
       "1036             133          1           1             32     221.1   \n",
       "30               130          0           0              0     212.8   \n",
       "378              104          0           0              0     139.7   \n",
       "370              112          0           0              0     261.4   \n",
       "\n",
       "      Day_Calls  Eve_Mins  Eve_Calls  Night_Mins  Night_Calls  Intl_Mins  \\\n",
       "1935        102     226.1         80       252.0           96       13.9   \n",
       "1036        137     264.9         99       168.9          108       15.4   \n",
       "30          102     189.8        137       170.1          105       10.6   \n",
       "378          78     202.6        119       203.6          102       11.3   \n",
       "370         108     154.5        102       130.9           90       11.6   \n",
       "\n",
       "      Intl_Calls  CustServ_Calls  Churn  kpi_is_train  \n",
       "1935           5               2      1             1  \n",
       "1036           4               2      1             1  \n",
       "30             4               0      1             1  \n",
       "378            5               2      0             0  \n",
       "370            2               1      0             1  "
      ]
     },
     "execution_count": 264,
     "metadata": {},
     "output_type": "execute_result"
    }
   ],
   "source": [
    "df_append.sample(5)"
   ]
  },
  {
   "cell_type": "markdown",
   "metadata": {},
   "source": [
    "### a- Building the Model (with Logistic Regression) "
   ]
  },
  {
   "cell_type": "code",
   "execution_count": 271,
   "metadata": {},
   "outputs": [],
   "source": [
    "#Train test split \n",
    "seed = 42\n",
    "train, test = model_selection.train_test_split(df_append, test_size=0.30, random_state=seed, stratify=df_append['kpi_is_train'])"
   ]
  },
  {
   "cell_type": "code",
   "execution_count": 272,
   "metadata": {},
   "outputs": [],
   "source": [
    "y_train = train['kpi_is_train']\n",
    "X_train = train.drop('kpi_is_train', axis=1)\n",
    "y_test = test['kpi_is_train']\n",
    "X_test = test.drop('kpi_is_train', axis=1)"
   ]
  },
  {
   "cell_type": "code",
   "execution_count": 273,
   "metadata": {},
   "outputs": [
    {
     "name": "stdout",
     "output_type": "stream",
     "text": [
      "Fitting 5 folds for each of 266 candidates, totalling 1330 fits\n"
     ]
    },
    {
     "name": "stderr",
     "output_type": "stream",
     "text": [
      "[Parallel(n_jobs=-1)]: Using backend LokyBackend with 8 concurrent workers.\n",
      "[Parallel(n_jobs=-1)]: Done  56 tasks      | elapsed:    0.3s\n",
      "[Parallel(n_jobs=-1)]: Done 656 tasks      | elapsed:    3.5s\n"
     ]
    },
    {
     "name": "stdout",
     "output_type": "stream",
     "text": [
      "Best grid parameters: Pipeline(steps=[('scaler', StandardScaler()),\n",
      "                ('clf',\n",
      "                 LogisticRegression(C=0.1, penalty='l1', random_state=42,\n",
      "                                    solver='liblinear'))]) \n",
      "\n",
      "Training accuracy: 0.6999571367338191\n",
      "Test accuracy    : 0.7\n"
     ]
    },
    {
     "name": "stderr",
     "output_type": "stream",
     "text": [
      "[Parallel(n_jobs=-1)]: Done 1330 out of 1330 | elapsed:    7.1s finished\n"
     ]
    }
   ],
   "source": [
    "pipe = Pipeline([  ('scaler',  StandardScaler()),\n",
    "                 ('clf',     LogisticRegression(random_state=seed))])\n",
    "\n",
    "params = [{'clf__C'           : np.arange(0.1, 2.0, 0.05), \n",
    "           'clf__penalty'     : ['l1'], \n",
    "           'clf__solver'      : ['liblinear', 'saga']},\n",
    "          \n",
    "          {'clf__C'           : np.arange(0.1, 2.0, 0.05), \n",
    "           'clf__penalty'     : ['l2'], \n",
    "           'clf__solver'      : ['liblinear', 'newton-cg', 'lbfgs', 'sag', 'saga']}]\n",
    "\n",
    "skf = StratifiedKFold(n_splits=5, random_state=seed, shuffle=True)\n",
    "grid = GridSearchCV(pipe, param_grid=params, cv=skf, n_jobs=-1 , verbose=1)\n",
    "\n",
    "grid.fit(X_train, y_train)\n",
    "\n",
    "print('Best grid parameters:', grid.best_estimator_,'\\n')\n",
    "test_score = grid.score(X_test, y_test)\n",
    "print('Training accuracy:', grid.score(X_train, y_train))\n",
    "print('Test accuracy    :', test_score)"
   ]
  },
  {
   "cell_type": "markdown",
   "metadata": {},
   "source": [
    "### b- Determining whether train and test data are from same population or not"
   ]
  },
  {
   "cell_type": "markdown",
   "metadata": {},
   "source": [
    "### 1 - Creating ROC Curve "
   ]
  },
  {
   "cell_type": "code",
   "execution_count": 276,
   "metadata": {},
   "outputs": [
    {
     "data": {
      "image/png": "[encoded data removed]",
      "text/plain": [
       "<Figure size 432x432 with 1 Axes>"
      ]
     },
     "metadata": {
      "needs_background": "light"
     },
     "output_type": "display_data"
    }
   ],
   "source": [
    "cm = confusion_matrix(y_test, grid.predict(X_test))\n",
    "fpr, tpr, _ = roc_curve(y_test, grid.predict_proba(X_test)[:,1])\n",
    "roc_auc = auc(fpr, tpr)\n",
    "plt.figure(figsize=(6,6))\n",
    "plt.plot(fpr, tpr, label='LR (ROC-AUC = %0.2f)' % roc_auc)\n",
    "plt.plot([0, 1], [0, 1], 'k--')\n",
    "tn, fp, fn, tp = [i for i in cm.ravel()]\n",
    "plt.plot(fp/(fp+tn), tp/(tp+fn), 'ro', markersize=8, label='Decision Point')\n",
    "plt.xlim([0.0, 1.0])\n",
    "plt.ylim([0.0, 1.05])\n",
    "plt.xlabel('False Positive Rate')\n",
    "plt.ylabel('True Positive Rate')\n",
    "plt.title('ROC Curve (TPR vs FPR at each probability threshold)')\n",
    "plt.legend(loc=\"lower right\")\n",
    "plt.show()"
   ]
  },
  {
   "cell_type": "markdown",
   "metadata": {},
   "source": [
    "### 2- Confusion Matrix"
   ]
  },
  {
   "cell_type": "code",
   "execution_count": 281,
   "metadata": {},
   "outputs": [
    {
     "data": {
      "image/png": "[encoded data removed]",
      "text/plain": [
       "<Figure size 432x288 with 2 Axes>"
      ]
     },
     "metadata": {
      "needs_background": "light"
     },
     "output_type": "display_data"
    },
    {
     "name": "stdout",
     "output_type": "stream",
     "text": [
      "\n",
      "               precision    recall  f1-score   support\n",
      "\n",
      "           0       0.00      0.00      0.00       300\n",
      "           1       0.70      1.00      0.82       700\n",
      "\n",
      "    accuracy                           0.70      1000\n",
      "   macro avg       0.35      0.50      0.41      1000\n",
      "weighted avg       0.49      0.70      0.58      1000\n",
      "\n"
     ]
    }
   ],
   "source": [
    "def draw_cm(actual, predicted):\n",
    "    cm = confusion_matrix(actual, predicted, [1,0])\n",
    "    sns.heatmap(cm, annot=True,  fmt='.0f', xticklabels = [\"Train:1\", \"Not train:0\"] , \n",
    "                yticklabels = [\"Train:1\", \"Not train:0\"] )\n",
    "    plt.ylabel('ACTUAL')\n",
    "    plt.xlabel('PREDICTED')\n",
    "    plt.show()\n",
    "draw_cm( y_test, grid.predict(X_test) )\n",
    "print('\\n',classification_report(y_test, grid.predict(X_test)))"
   ]
  },
  {
   "cell_type": "markdown",
   "metadata": {},
   "source": [
    "I used ROC Curve and confusion matrix to decide whether train and test data are from same population or not. Area under the \n",
    "ROC curve is 0.49 and it demonstrates that the model is insufficient for accurate classification. Also, according to confusion \n",
    "matrix, model pretends that all values are from train dataset because of the similarity of train and test data. As a result,\n",
    "our test and train data are from same population. "
   ]
  },
  {
   "cell_type": "markdown",
   "metadata": {},
   "source": [
    "# Q3. Mixed data for Naive Bayes (40 pts)\n",
    "\n",
    "Given the following attributes:"
   ]
  },
  {
   "cell_type": "code",
   "execution_count": 924,
   "metadata": {},
   "outputs": [],
   "source": [
    "import numpy as np\n",
    "import pandas as pd\n",
    "df = pd.DataFrame({\n",
    "    'temperature':[98,87,90,86,88,79,85,89,80,90,86,83,70,68,64,69,75,75,72,81,73,68,75,76,79,77],\n",
    "    'humidity'   :[85,79,91,83,87,80,86,85,87,90,83,76,88,80,65,70,80,70,90,75,74,67,73,74,77,78],\n",
    "    'playtennis' :['no','no','no','no','no','no','no','no','no','no','no','yes','yes','yes','yes',\n",
    "                   'yes','yes','yes','yes','yes','yes','yes','yes','yes','yes','yes']},\n",
    "    columns=['temperature', 'humidity', 'playtennis'])"
   ]
  },
  {
   "cell_type": "markdown",
   "metadata": {},
   "source": [
    "The target is whether we'll play tennis given the values of temperature and humidity. The objective here is come up with a model to predict whether we shall play if **temperature=79** and **humidity=81**.\n",
    "\n",
    "**1.** Build a Logistic Regression and a Naive Bayes model to compare the predicitons for the temperature and humidity value given above. Given the small size of our training data, you should use an **appropriate Cross-validation technique** to select a Logistic Regression model.\n",
    "\n",
    "**2.** Transform the temperature feature (which is a continuous attribute) into a categorical one. Use the following table for this purpose:<br>\n",
    "\n",
    "|Range|Value|\n",
    "|----|-----|\n",
    "|temp $\\lt$ 75| Low|\n",
    "|75 $\\lt$ temp $\\le$ 85| Medium|\n",
    "|temp $\\gt$ 85| High|\n",
    "\n",
    "Now you have mixed data. Build a Naive Bayes model that can handle both features and make a prediction for (temperature=medium, humidity=81) where medium is selected for temperature =79.\n",
    "\n",
    "One way of handling mixed data is to independently fit a GaussianNB model on the continuous part of the data and a CategoricalNB (see below for reference) model on the categorical part. \n",
    "\n",
    "Once you fit each model using relevant attributes, you can compute the class probabilities (for both yes and no) for both of these models by using the `predict_proba` method. These probabilities are 2D arrays for \"**no/0**\" and \"**yes/1**\" classes. By taking either one of these class assignment probabilities (say probability values for 1) for both models, you can use these as new features for continuous and categorical atributes. You can put these together by using either `numpy.c_` or `numpy.hstack` modules. Now you have continuous attributes for your data.  \n",
    "\n",
    "Finally, you can refit a new GaussianNB model on these new features (along with the target) and make your predictions. The input for this new model will be the probabilities for \"temperature=medium\" and \"humidity=81\" which will be the predictions of the separate models built in the previous step.\n",
    "\n",
    "Reference for Categorical NB: https://scikit-learn.org/stable/modules/generated/sklearn.naive_bayes.CategoricalNB.html"
   ]
  },
  {
   "cell_type": "markdown",
   "metadata": {},
   "source": [
    "#### Answer 3.1"
   ]
  },
  {
   "cell_type": "code",
   "execution_count": 757,
   "metadata": {},
   "outputs": [],
   "source": [
    "#Replacing \"yes\" and \"no\" values to 1 and 0 \n",
    "df['playtennis'] = df['playtennis'].map({'yes' : 1, 'no' : 0})"
   ]
  },
  {
   "cell_type": "code",
   "execution_count": 758,
   "metadata": {},
   "outputs": [
    {
     "data": {
      "text/html": [
       "<div>\n",
       "<style scoped>\n",
       "    .dataframe tbody tr th:only-of-type {\n",
       "        vertical-align: middle;\n",
       "    }\n",
       "\n",
       "    .dataframe tbody tr th {\n",
       "        vertical-align: top;\n",
       "    }\n",
       "\n",
       "    .dataframe thead th {\n",
       "        text-align: right;\n",
       "    }\n",
       "</style>\n",
       "<table border=\"1\" class=\"dataframe\">\n",
       "  <thead>\n",
       "    <tr style=\"text-align: right;\">\n",
       "      <th></th>\n",
       "      <th>temperature</th>\n",
       "      <th>humidity</th>\n",
       "      <th>playtennis</th>\n",
       "    </tr>\n",
       "  </thead>\n",
       "  <tbody>\n",
       "    <tr>\n",
       "      <th>0</th>\n",
       "      <td>98</td>\n",
       "      <td>85</td>\n",
       "      <td>0</td>\n",
       "    </tr>\n",
       "    <tr>\n",
       "      <th>1</th>\n",
       "      <td>87</td>\n",
       "      <td>79</td>\n",
       "      <td>0</td>\n",
       "    </tr>\n",
       "    <tr>\n",
       "      <th>2</th>\n",
       "      <td>90</td>\n",
       "      <td>91</td>\n",
       "      <td>0</td>\n",
       "    </tr>\n",
       "    <tr>\n",
       "      <th>3</th>\n",
       "      <td>86</td>\n",
       "      <td>83</td>\n",
       "      <td>0</td>\n",
       "    </tr>\n",
       "    <tr>\n",
       "      <th>4</th>\n",
       "      <td>88</td>\n",
       "      <td>87</td>\n",
       "      <td>0</td>\n",
       "    </tr>\n",
       "  </tbody>\n",
       "</table>\n",
       "</div>"
      ],
      "text/plain": [
       "   temperature  humidity  playtennis\n",
       "0           98        85           0\n",
       "1           87        79           0\n",
       "2           90        91           0\n",
       "3           86        83           0\n",
       "4           88        87           0"
      ]
     },
     "execution_count": 758,
     "metadata": {},
     "output_type": "execute_result"
    }
   ],
   "source": [
    "df.head()"
   ]
  },
  {
   "cell_type": "code",
   "execution_count": 759,
   "metadata": {},
   "outputs": [
    {
     "data": {
      "text/plain": [
       "(26, 3)"
      ]
     },
     "execution_count": 759,
     "metadata": {},
     "output_type": "execute_result"
    }
   ],
   "source": [
    "df.shape"
   ]
  },
  {
   "cell_type": "code",
   "execution_count": 760,
   "metadata": {},
   "outputs": [
    {
     "name": "stdout",
     "output_type": "stream",
     "text": [
      "<class 'pandas.core.frame.DataFrame'>\n",
      "RangeIndex: 26 entries, 0 to 25\n",
      "Data columns (total 3 columns):\n",
      " #   Column       Non-Null Count  Dtype\n",
      "---  ------       --------------  -----\n",
      " 0   temperature  26 non-null     int64\n",
      " 1   humidity     26 non-null     int64\n",
      " 2   playtennis   26 non-null     int64\n",
      "dtypes: int64(3)\n",
      "memory usage: 752.0 bytes\n"
     ]
    }
   ],
   "source": [
    "df.info() "
   ]
  },
  {
   "cell_type": "markdown",
   "metadata": {},
   "source": [
    "### 1- Building the Model with Logistic Regression "
   ]
  },
  {
   "cell_type": "code",
   "execution_count": 761,
   "metadata": {},
   "outputs": [],
   "source": [
    "y = df.playtennis\n",
    "columns = ['temperature', 'humidity'] \n",
    "X = df[columns]"
   ]
  },
  {
   "cell_type": "code",
   "execution_count": 762,
   "metadata": {},
   "outputs": [],
   "source": [
    "X_train, X_test, y_train, y_test = train_test_split(X, y, test_size=0.25, random_state=42)"
   ]
  },
  {
   "cell_type": "code",
   "execution_count": 764,
   "metadata": {},
   "outputs": [
    {
     "name": "stdout",
     "output_type": "stream",
     "text": [
      "Fitting 19 folds for each of 266 candidates, totalling 5054 fits\n"
     ]
    },
    {
     "name": "stderr",
     "output_type": "stream",
     "text": [
      "[Parallel(n_jobs=-1)]: Using backend LokyBackend with 8 concurrent workers.\n",
      "[Parallel(n_jobs=-1)]: Done  34 tasks      | elapsed:    4.0s\n",
      "[Parallel(n_jobs=-1)]: Done 1680 tasks      | elapsed:    7.7s\n"
     ]
    },
    {
     "name": "stdout",
     "output_type": "stream",
     "text": [
      "Best grid parameters: {'clf__C': 0.15000000000000002, 'clf__penalty': 'l1', 'clf__solver': 'liblinear'} \n",
      "\n",
      "Classifier used     : Pipeline(steps=[('scaler', StandardScaler()),\n",
      "                ('clf',\n",
      "                 LogisticRegression(C=0.15000000000000002, penalty='l1',\n",
      "                                    random_state=42, solver='liblinear'))]) \n",
      "\n",
      "Training accuracy: 0.9473684210526315\n",
      "Test accuracy: 0.7142857142857143\n"
     ]
    },
    {
     "name": "stderr",
     "output_type": "stream",
     "text": [
      "[Parallel(n_jobs=-1)]: Done 5054 out of 5054 | elapsed:   16.7s finished\n"
     ]
    }
   ],
   "source": [
    "# Due to the suitability of small datasets, I decide to implement leave-one-out cross validation\n",
    "\n",
    "pipe = Pipeline([  ('scaler',  StandardScaler()),\n",
    "                 ('clf',     LogisticRegression(random_state=42))])\n",
    "\n",
    "params = [{'clf__C'           : np.arange(0.1, 2.0, 0.05), \n",
    "           'clf__penalty'     : ['l1'], \n",
    "           'clf__solver'      : ['liblinear', 'saga']},\n",
    "          \n",
    "          {'clf__C'           : np.arange(0.1, 2.0, 0.05), \n",
    "           'clf__penalty'     : ['l2'], \n",
    "           'clf__solver'      : ['liblinear', 'newton-cg', 'lbfgs', 'sag', 'saga']}]\n",
    "\n",
    "loocv = model_selection.LeaveOneOut()\n",
    "grid = GridSearchCV(pipe, param_grid=params, cv=loocv, n_jobs=-1 , verbose=1)\n",
    "\n",
    "grid.fit(X_train, y_train)\n",
    "\n",
    "print('Best grid parameters:', grid.best_params_, '\\n')\n",
    "print('Classifier used     :',grid.best_estimator_,'\\n')\n",
    "print('Training accuracy:', grid.score(X_train, y_train))\n",
    "print('Test accuracy:', grid.score(X_test, y_test))"
   ]
  },
  {
   "cell_type": "markdown",
   "metadata": {},
   "source": [
    "##### Predicting whether we shall play if temperature= 79 and humidity= 81"
   ]
  },
  {
   "cell_type": "code",
   "execution_count": 765,
   "metadata": {},
   "outputs": [
    {
     "data": {
      "text/plain": [
       "array([[0.50541185, 0.49458815]])"
      ]
     },
     "execution_count": 765,
     "metadata": {},
     "output_type": "execute_result"
    }
   ],
   "source": [
    "grid.predict_proba([[79, 81]]) "
   ]
  },
  {
   "cell_type": "markdown",
   "metadata": {},
   "source": [
    "### 2 - Building the Model with Naive Bayes "
   ]
  },
  {
   "cell_type": "code",
   "execution_count": 766,
   "metadata": {},
   "outputs": [
    {
     "name": "stdout",
     "output_type": "stream",
     "text": [
      "Fitting 19 folds for each of 100 candidates, totalling 1900 fits\n"
     ]
    },
    {
     "name": "stderr",
     "output_type": "stream",
     "text": [
      "[Parallel(n_jobs=-1)]: Using backend LokyBackend with 8 concurrent workers.\n",
      "[Parallel(n_jobs=-1)]: Done  56 tasks      | elapsed:    0.3s\n",
      "[Parallel(n_jobs=-1)]: Done 1200 tasks      | elapsed:    3.6s\n"
     ]
    },
    {
     "name": "stdout",
     "output_type": "stream",
     "text": [
      "Best grid parameters: {'clf__var_smoothing': 1.0} \n",
      "\n",
      "Classifier used     : Pipeline(steps=[('transformer', PowerTransformer()),\n",
      "                ('clf', GaussianNB(var_smoothing=1.0))]) \n",
      "\n",
      "Training accuracy: 0.9473684210526315\n",
      "Test accuracy: 0.8571428571428571\n"
     ]
    },
    {
     "name": "stderr",
     "output_type": "stream",
     "text": [
      "[Parallel(n_jobs=-1)]: Done 1900 out of 1900 | elapsed:    5.7s finished\n"
     ]
    }
   ],
   "source": [
    "pipeline = Pipeline([('transformer', PowerTransformer()),\n",
    "                     ('clf', GaussianNB()) ])\n",
    "\n",
    "params = [{'clf__var_smoothing': np.logspace(0,-9, num=100)}]\n",
    "\n",
    "loocv = model_selection.LeaveOneOut()\n",
    "grid = GridSearchCV(estimator = pipeline, param_grid = params, cv = loocv,n_jobs=-1 , verbose=1)\n",
    "\n",
    "grid.fit(X_train, y_train)\n",
    "print('Best grid parameters:', grid.best_params_, '\\n')\n",
    "print('Classifier used     :',grid.best_estimator_,'\\n')\n",
    "print('Training accuracy:', grid.score(X_train, y_train))\n",
    "print('Test accuracy:', grid.score(X_test, y_test))"
   ]
  },
  {
   "cell_type": "markdown",
   "metadata": {},
   "source": [
    "##### Predicting whether we shall play if temperature=79 and humidity=81"
   ]
  },
  {
   "cell_type": "code",
   "execution_count": 767,
   "metadata": {},
   "outputs": [
    {
     "data": {
      "text/plain": [
       "array([[0.47644818, 0.52355182]])"
      ]
     },
     "execution_count": 767,
     "metadata": {},
     "output_type": "execute_result"
    }
   ],
   "source": [
    "grid.predict_proba([[79, 81]]) "
   ]
  },
  {
   "cell_type": "markdown",
   "metadata": {},
   "source": [
    "Test accuracy of Naive Bayes is higher than test accuracy of logistic regression. Also, according to result, if the temperature\n",
    "is equal to 79 and humidity is equal to 81, tennis will be played."
   ]
  },
  {
   "cell_type": "markdown",
   "metadata": {},
   "source": [
    "#### Answer 3.2"
   ]
  },
  {
   "cell_type": "code",
   "execution_count": 925,
   "metadata": {},
   "outputs": [],
   "source": [
    "df_new = df.copy() "
   ]
  },
  {
   "cell_type": "code",
   "execution_count": 926,
   "metadata": {},
   "outputs": [],
   "source": [
    "df_new['cat_temp'] = [\"Low\" if (x < 75) else \"Medium\" if (x>=75 and x <=85) else \"High\" for x in df_new.temperature]"
   ]
  },
  {
   "cell_type": "code",
   "execution_count": 927,
   "metadata": {},
   "outputs": [
    {
     "data": {
      "text/html": [
       "<div>\n",
       "<style scoped>\n",
       "    .dataframe tbody tr th:only-of-type {\n",
       "        vertical-align: middle;\n",
       "    }\n",
       "\n",
       "    .dataframe tbody tr th {\n",
       "        vertical-align: top;\n",
       "    }\n",
       "\n",
       "    .dataframe thead th {\n",
       "        text-align: right;\n",
       "    }\n",
       "</style>\n",
       "<table border=\"1\" class=\"dataframe\">\n",
       "  <thead>\n",
       "    <tr style=\"text-align: right;\">\n",
       "      <th></th>\n",
       "      <th>temperature</th>\n",
       "      <th>humidity</th>\n",
       "      <th>playtennis</th>\n",
       "      <th>cat_temp</th>\n",
       "    </tr>\n",
       "  </thead>\n",
       "  <tbody>\n",
       "    <tr>\n",
       "      <th>14</th>\n",
       "      <td>64</td>\n",
       "      <td>65</td>\n",
       "      <td>yes</td>\n",
       "      <td>Low</td>\n",
       "    </tr>\n",
       "    <tr>\n",
       "      <th>17</th>\n",
       "      <td>75</td>\n",
       "      <td>70</td>\n",
       "      <td>yes</td>\n",
       "      <td>Medium</td>\n",
       "    </tr>\n",
       "    <tr>\n",
       "      <th>18</th>\n",
       "      <td>72</td>\n",
       "      <td>90</td>\n",
       "      <td>yes</td>\n",
       "      <td>Low</td>\n",
       "    </tr>\n",
       "    <tr>\n",
       "      <th>7</th>\n",
       "      <td>89</td>\n",
       "      <td>85</td>\n",
       "      <td>no</td>\n",
       "      <td>High</td>\n",
       "    </tr>\n",
       "    <tr>\n",
       "      <th>0</th>\n",
       "      <td>98</td>\n",
       "      <td>85</td>\n",
       "      <td>no</td>\n",
       "      <td>High</td>\n",
       "    </tr>\n",
       "    <tr>\n",
       "      <th>21</th>\n",
       "      <td>68</td>\n",
       "      <td>67</td>\n",
       "      <td>yes</td>\n",
       "      <td>Low</td>\n",
       "    </tr>\n",
       "    <tr>\n",
       "      <th>10</th>\n",
       "      <td>86</td>\n",
       "      <td>83</td>\n",
       "      <td>no</td>\n",
       "      <td>High</td>\n",
       "    </tr>\n",
       "    <tr>\n",
       "      <th>4</th>\n",
       "      <td>88</td>\n",
       "      <td>87</td>\n",
       "      <td>no</td>\n",
       "      <td>High</td>\n",
       "    </tr>\n",
       "    <tr>\n",
       "      <th>20</th>\n",
       "      <td>73</td>\n",
       "      <td>74</td>\n",
       "      <td>yes</td>\n",
       "      <td>Low</td>\n",
       "    </tr>\n",
       "    <tr>\n",
       "      <th>3</th>\n",
       "      <td>86</td>\n",
       "      <td>83</td>\n",
       "      <td>no</td>\n",
       "      <td>High</td>\n",
       "    </tr>\n",
       "  </tbody>\n",
       "</table>\n",
       "</div>"
      ],
      "text/plain": [
       "    temperature  humidity playtennis cat_temp\n",
       "14           64        65        yes      Low\n",
       "17           75        70        yes   Medium\n",
       "18           72        90        yes      Low\n",
       "7            89        85         no     High\n",
       "0            98        85         no     High\n",
       "21           68        67        yes      Low\n",
       "10           86        83         no     High\n",
       "4            88        87         no     High\n",
       "20           73        74        yes      Low\n",
       "3            86        83         no     High"
      ]
     },
     "execution_count": 927,
     "metadata": {},
     "output_type": "execute_result"
    }
   ],
   "source": [
    "df_new.sample(10) "
   ]
  },
  {
   "cell_type": "code",
   "execution_count": 928,
   "metadata": {},
   "outputs": [],
   "source": [
    "df_g= df_new[['humidity']]    #continuous values \n",
    "df_cat =df_new[['cat_temp']]  #categorical values\n",
    "y=df_new['playtennis'].values"
   ]
  },
  {
   "cell_type": "code",
   "execution_count": 929,
   "metadata": {},
   "outputs": [],
   "source": [
    "#Encoding categorical variables\n",
    "enc = OrdinalEncoder()\n",
    "df_cat = enc.fit_transform(df_cat)"
   ]
  },
  {
   "cell_type": "code",
   "execution_count": 930,
   "metadata": {},
   "outputs": [],
   "source": [
    "#Creating one array\n",
    "X=np.c_[df_g, df_cat]"
   ]
  },
  {
   "cell_type": "code",
   "execution_count": 931,
   "metadata": {},
   "outputs": [],
   "source": [
    "#Train-test split \n",
    "X_train, X_test, y_train, y_test = train_test_split(X, y, test_size=0.2, random_state=0)"
   ]
  },
  {
   "cell_type": "markdown",
   "metadata": {},
   "source": [
    "### Building Gaussian NB and Categorical NB Model "
   ]
  },
  {
   "cell_type": "code",
   "execution_count": 932,
   "metadata": {},
   "outputs": [],
   "source": [
    "#Gaussian Model \n",
    "gaus_model = GaussianNB()\n",
    "clf_G = gaus_model.fit(X_train[:,0:1], y_train)\n",
    "\n",
    "#Categorical Model \n",
    "cat_model = CategoricalNB()\n",
    "clf_C = cat_model.fit(X_train[:,1:2], y_train)"
   ]
  },
  {
   "cell_type": "code",
   "execution_count": 933,
   "metadata": {},
   "outputs": [],
   "source": [
    "#Finding probability predictions for train and test data \n",
    "G_prob = gaus_model.predict_proba(X_train[:,0:1])\n",
    "Cat_prob = cat_model.predict_proba(X_train[:,1:2])\n",
    "\n",
    "G_test_prob = gaus_model.predict_proba(X_test[:,0:1])\n",
    "Cat_test_prob = cat_model.predict_proba(X_test[:,1:2])"
   ]
  },
  {
   "cell_type": "code",
   "execution_count": 934,
   "metadata": {},
   "outputs": [],
   "source": [
    "# Probability prediction for class=1 and into a 2D array\n",
    "X_new_train = np.c_[(G_prob[:,1], Cat_prob[:,1])]\n",
    "X_new_test = np.c_[(G_test_prob[:,1], Cat_test_prob[:,1])]"
   ]
  },
  {
   "cell_type": "markdown",
   "metadata": {},
   "source": [
    "### Building Gaussian NB Model "
   ]
  },
  {
   "cell_type": "code",
   "execution_count": 935,
   "metadata": {},
   "outputs": [
    {
     "name": "stdout",
     "output_type": "stream",
     "text": [
      "Classes:  ['no' 'yes']\n",
      "Class Priors:  [0.45 0.55]\n",
      "Accuracy Score:  0.8333333333333334\n",
      "              precision    recall  f1-score   support\n",
      "\n",
      "          no       1.00      0.50      0.67         2\n",
      "         yes       0.80      1.00      0.89         4\n",
      "\n",
      "    accuracy                           0.83         6\n",
      "   macro avg       0.90      0.75      0.78         6\n",
      "weighted avg       0.87      0.83      0.81         6\n",
      "\n"
     ]
    }
   ],
   "source": [
    "model = GaussianNB()\n",
    "clf = model.fit(X_new_train, y_train) \n",
    "label_pred = model.predict(X_new_test) \n",
    "print('Classes: ', clf.classes_) \n",
    "print('Class Priors: ',clf.class_prior_) \n",
    "score = model.score(X_new_test, y_test)\n",
    "print('Accuracy Score: ', score)\n",
    "print(classification_report(y_test,label_pred)) "
   ]
  },
  {
   "cell_type": "markdown",
   "metadata": {},
   "source": [
    "##### Predicting whether we shall play if temperature=medium and humidity=81"
   ]
  },
  {
   "cell_type": "code",
   "execution_count": 936,
   "metadata": {},
   "outputs": [],
   "source": [
    "#Creating new dataframe \n",
    "df_pred = pd.DataFrame({'temperature': 'Medium',\n",
    "                         'humidity' : [81]})"
   ]
  },
  {
   "cell_type": "code",
   "execution_count": 937,
   "metadata": {},
   "outputs": [
    {
     "data": {
      "text/html": [
       "<div>\n",
       "<style scoped>\n",
       "    .dataframe tbody tr th:only-of-type {\n",
       "        vertical-align: middle;\n",
       "    }\n",
       "\n",
       "    .dataframe tbody tr th {\n",
       "        vertical-align: top;\n",
       "    }\n",
       "\n",
       "    .dataframe thead th {\n",
       "        text-align: right;\n",
       "    }\n",
       "</style>\n",
       "<table border=\"1\" class=\"dataframe\">\n",
       "  <thead>\n",
       "    <tr style=\"text-align: right;\">\n",
       "      <th></th>\n",
       "      <th>temperature</th>\n",
       "      <th>humidity</th>\n",
       "    </tr>\n",
       "  </thead>\n",
       "  <tbody>\n",
       "    <tr>\n",
       "      <th>0</th>\n",
       "      <td>Medium</td>\n",
       "      <td>81</td>\n",
       "    </tr>\n",
       "  </tbody>\n",
       "</table>\n",
       "</div>"
      ],
      "text/plain": [
       "  temperature  humidity\n",
       "0      Medium        81"
      ]
     },
     "execution_count": 937,
     "metadata": {},
     "output_type": "execute_result"
    }
   ],
   "source": [
    "df_pred"
   ]
  },
  {
   "cell_type": "code",
   "execution_count": 938,
   "metadata": {},
   "outputs": [],
   "source": [
    "X_Gaus = df_pred[['humidity']] \n",
    "X_Cat = df_pred[['temperature']]"
   ]
  },
  {
   "cell_type": "code",
   "execution_count": 939,
   "metadata": {},
   "outputs": [],
   "source": [
    "#Encoding the variables \n",
    "X_Cat = enc.transform(X_Cat)"
   ]
  },
  {
   "cell_type": "code",
   "execution_count": 940,
   "metadata": {},
   "outputs": [],
   "source": [
    "#Combining in one array \n",
    "X_array = np.c_[X_Gaus, X_Cat[:, 0]]"
   ]
  },
  {
   "cell_type": "code",
   "execution_count": 941,
   "metadata": {},
   "outputs": [
    {
     "data": {
      "text/plain": [
       "'yes'"
      ]
     },
     "execution_count": 941,
     "metadata": {},
     "output_type": "execute_result"
    }
   ],
   "source": [
    "label_pred1 = model.predict(X_array)\n",
    "label_pred1[0]"
   ]
  },
  {
   "cell_type": "code",
   "execution_count": 942,
   "metadata": {},
   "outputs": [
    {
     "data": {
      "text/plain": [
       "array([[0., 1.]])"
      ]
     },
     "execution_count": 942,
     "metadata": {},
     "output_type": "execute_result"
    }
   ],
   "source": [
    "model.predict_proba(X_array)"
   ]
  },
  {
   "cell_type": "markdown",
   "metadata": {},
   "source": [
    "According to result, if the temperature is medium and humidity is equal to 81, tennis will be played."
   ]
  }
 ],
 "metadata": {
  "kernelspec": {
   "display_name": "Python 3",
   "language": "python",
   "name": "python3"
  },
  "language_info": {
   "codemirror_mode": {
    "name": "ipython",
    "version": 3
   },
   "file_extension": ".py",
   "mimetype": "text/x-python",
   "name": "python",
   "nbconvert_exporter": "python",
   "pygments_lexer": "ipython3",
   "version": "3.8.5"
  }
 },
 "nbformat": 4,
 "nbformat_minor": 2
}
